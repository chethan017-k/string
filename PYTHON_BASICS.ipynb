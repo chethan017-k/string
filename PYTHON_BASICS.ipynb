{
  "nbformat": 4,
  "nbformat_minor": 0,
  "metadata": {
    "colab": {
      "name": "PYTHON BASICS.ipynb",
      "provenance": [],
      "collapsed_sections": [],
      "toc_visible": true,
      "authorship_tag": "ABX9TyM5ZPOu71HoHKKRar+X3RSZ",
      "include_colab_link": true
    },
    "kernelspec": {
      "name": "python3",
      "display_name": "Python 3"
    },
    "language_info": {
      "name": "python"
    }
  },
  "cells": [
    {
      "cell_type": "markdown",
      "metadata": {
        "id": "view-in-github",
        "colab_type": "text"
      },
      "source": [
        "<a href=\"https://colab.research.google.com/github/chethan017-k/string/blob/main/PYTHON_BASICS.ipynb\" target=\"_parent\"><img src=\"https://colab.research.google.com/assets/colab-badge.svg\" alt=\"Open In Colab\"/></a>"
      ]
    },
    {
      "cell_type": "markdown",
      "metadata": {
        "id": "r3HzPWwU_zI7"
      },
      "source": [
        "# **Comments**\n",
        "  using the # character to add comments within our code.\n",
        " Comments and blank lines are ignored during execution, but they are useful for providing information to humans (including yourself) about what the code does."
      ]
    },
    {
      "cell_type": "markdown",
      "metadata": {
        "id": "_WlIb343_eXc"
      },
      "source": [
        "# Entering **Expressions**"
      ]
    },
    {
      "cell_type": "code",
      "metadata": {
        "colab": {
          "base_uri": "https://localhost:8080/"
        },
        "id": "7RUOIeOu_jCQ",
        "outputId": "f534f50d-a861-41d6-c6c5-ed637e2befe1"
      },
      "source": [
        "#Addition Operation\n",
        "2+2       # \"+\" operator"
      ],
      "execution_count": null,
      "outputs": [
        {
          "output_type": "execute_result",
          "data": {
            "text/plain": [
              "4"
            ]
          },
          "metadata": {
            "tags": []
          },
          "execution_count": 1
        }
      ]
    },
    {
      "cell_type": "code",
      "metadata": {
        "colab": {
          "base_uri": "https://localhost:8080/"
        },
        "id": "1umclcor_pXj",
        "outputId": "25379492-be34-4f35-965b-30d33ecd7eb8"
      },
      "source": [
        "#Subtraction Operation\n",
        "5-2     # \"-\" operator"
      ],
      "execution_count": null,
      "outputs": [
        {
          "output_type": "execute_result",
          "data": {
            "text/plain": [
              "3"
            ]
          },
          "metadata": {
            "tags": []
          },
          "execution_count": 2
        }
      ]
    },
    {
      "cell_type": "code",
      "metadata": {
        "colab": {
          "base_uri": "https://localhost:8080/"
        },
        "id": "f-v7rRIG_piT",
        "outputId": "75217bef-13a7-4e8c-85cd-968351db9fe9"
      },
      "source": [
        "# Multiplication operation\n",
        "3*5      # \"*\" operator"
      ],
      "execution_count": null,
      "outputs": [
        {
          "output_type": "execute_result",
          "data": {
            "text/plain": [
              "15"
            ]
          },
          "metadata": {
            "tags": []
          },
          "execution_count": 3
        }
      ]
    },
    {
      "cell_type": "code",
      "metadata": {
        "id": "7TK32t7z_pkz"
      },
      "source": [
        "# Division operation\n",
        "# 22 / 8   # \"/\" operator"
      ],
      "execution_count": null,
      "outputs": []
    },
    {
      "cell_type": "code",
      "metadata": {
        "colab": {
          "base_uri": "https://localhost:8080/"
        },
        "id": "DPfyMtlp_pnc",
        "outputId": "c509c7ea-a818-49a6-cd34-c7ee06db6ec7"
      },
      "source": [
        "# Integer division/floored quotient\n",
        "22//8    # \"//\" operator"
      ],
      "execution_count": null,
      "outputs": [
        {
          "output_type": "execute_result",
          "data": {
            "text/plain": [
              "2"
            ]
          },
          "metadata": {
            "tags": []
          },
          "execution_count": 5
        }
      ]
    },
    {
      "cell_type": "code",
      "metadata": {
        "colab": {
          "base_uri": "https://localhost:8080/"
        },
        "id": "GfK9yl-W_pqL",
        "outputId": "b1dfb6c1-378f-4ce7-c5a3-87983d5cd7d6"
      },
      "source": [
        "# Modulus/remainder\n",
        "22%8    # \"%\" operator"
      ],
      "execution_count": null,
      "outputs": [
        {
          "output_type": "execute_result",
          "data": {
            "text/plain": [
              "6"
            ]
          },
          "metadata": {
            "tags": []
          },
          "execution_count": 6
        }
      ]
    },
    {
      "cell_type": "code",
      "metadata": {
        "colab": {
          "base_uri": "https://localhost:8080/"
        },
        "id": "-trczuWh_psz",
        "outputId": "7abdd077-2154-4076-edf1-be93dc099a94"
      },
      "source": [
        "# Exponent\n",
        "2**3    # \"**\" operator"
      ],
      "execution_count": null,
      "outputs": [
        {
          "output_type": "execute_result",
          "data": {
            "text/plain": [
              "8"
            ]
          },
          "metadata": {
            "tags": []
          },
          "execution_count": 7
        }
      ]
    },
    {
      "cell_type": "markdown",
      "metadata": {
        "id": "rc5VDgLXCpJd"
      },
      "source": [
        "# **Math Operators from Highest to Lowest Precedence**\n",
        "Exponent,\n",
        "Modulus/remainder,\n",
        "Integer division/floored quotient,\n",
        "Division,\n",
        "Multiplication,\n",
        "Subtraction,\n",
        "Addition,\n"
      ]
    },
    {
      "cell_type": "markdown",
      "metadata": {
        "id": "vZcKEByQDUyG"
      },
      "source": [
        "The order of operations (also called precedence) of Python math operators \n",
        "is similar to that of mathematics. The ** operator is evaluated first; the *, \n",
        "/, //, and % operators are evaluated next, from left to right; and the + and -\n",
        "operators are evaluated last (also from left to right)"
      ]
    },
    {
      "cell_type": "code",
      "metadata": {
        "colab": {
          "base_uri": "https://localhost:8080/"
        },
        "id": "h3mkg-x0_pvk",
        "outputId": "d3588550-7d9b-46aa-c5e7-346dd5d8b57b"
      },
      "source": [
        "2 + 3 * 6"
      ],
      "execution_count": null,
      "outputs": [
        {
          "output_type": "execute_result",
          "data": {
            "text/plain": [
              "20"
            ]
          },
          "metadata": {
            "tags": []
          },
          "execution_count": 8
        }
      ]
    },
    {
      "cell_type": "code",
      "metadata": {
        "colab": {
          "base_uri": "https://localhost:8080/"
        },
        "id": "5WIl0Tdi_pyF",
        "outputId": "cb981a1f-2683-4925-c4e3-35197feadb94"
      },
      "source": [
        "(2 + 3) * 6"
      ],
      "execution_count": null,
      "outputs": [
        {
          "output_type": "execute_result",
          "data": {
            "text/plain": [
              "30"
            ]
          },
          "metadata": {
            "tags": []
          },
          "execution_count": 9
        }
      ]
    },
    {
      "cell_type": "code",
      "metadata": {
        "colab": {
          "base_uri": "https://localhost:8080/"
        },
        "id": "Pxx1AuZMEpG2",
        "outputId": "39d62b8a-e00d-4a94-95b2-544d68ef5253"
      },
      "source": [
        " (5 - 1) * ((7 + 1) / (3 - 1))\n"
      ],
      "execution_count": null,
      "outputs": [
        {
          "output_type": "execute_result",
          "data": {
            "text/plain": [
              "16.0"
            ]
          },
          "metadata": {
            "tags": []
          },
          "execution_count": 10
        }
      ]
    },
    {
      "cell_type": "markdown",
      "metadata": {
        "id": "d5-wLlDLFFy1"
      },
      "source": [
        "# **Data Types**\n"
      ]
    },
    {
      "cell_type": "markdown",
      "metadata": {
        "id": "dStRbKIkFnUd"
      },
      "source": [
        "Common Data Types\n"
      ]
    },
    {
      "cell_type": "markdown",
      "metadata": {
        "id": "y35H2WpUFZ01"
      },
      "source": [
        "**Integers**\n",
        "\n",
        "he integer (or int) data type indicates values that\n",
        "are whole numbers.\n",
        "\n",
        "Examples \n",
        "\n",
        "-2, -1, 0, 1, 2, 3, 4, 5"
      ]
    },
    {
      "cell_type": "markdown",
      "metadata": {
        "id": "G3wJmFAxFusu"
      },
      "source": [
        "**Floating-point numbers**\n",
        "\n",
        "Numbers with a decimal point, such as 3.14, are called\n",
        "floating-point numbers (or floats).\n",
        "\n",
        "Examples\n",
        "\n",
        "-1.25, -1.0, -0.5, 0.0, 0.5, 1.0, 1.25"
      ]
    },
    {
      "cell_type": "markdown",
      "metadata": {
        "id": "rvRNPgQ8F78s"
      },
      "source": [
        "**strings**\n",
        "\n",
        " text values called strings,Always surround your string in single quote (') characters\n",
        "(as in 'Hello' or 'Goodbye cruel world!')\n",
        "\n",
        "Examples \n",
        "\n",
        "'a', 'aa', 'aaa', 'Hello!', '11 cats'"
      ]
    },
    {
      "cell_type": "markdown",
      "metadata": {
        "id": "D_tq0Ju_M_w6"
      },
      "source": [
        "**String Concatenation and Replication**\n",
        "\n",
        "String Concatenation \n",
        "\n",
        "The meaning of an operator may change based on the data types of the\n",
        "values next to it. For example, \"+\" is the addition operator when it operates on\n",
        "two integers or floating-point values. However, when + is used on two string\n",
        "values, it joins the strings as the string concatenation operator. "
      ]
    },
    {
      "cell_type": "code",
      "metadata": {
        "colab": {
          "base_uri": "https://localhost:8080/",
          "height": 35
        },
        "id": "b1EWHcYsEpJc",
        "outputId": "341ce716-efcd-4993-ce87-4881f8297159"
      },
      "source": [
        "'Alice' + 'Bob'\n"
      ],
      "execution_count": null,
      "outputs": [
        {
          "output_type": "execute_result",
          "data": {
            "application/vnd.google.colaboratory.intrinsic+json": {
              "type": "string"
            },
            "text/plain": [
              "'AliceBob'"
            ]
          },
          "metadata": {
            "tags": []
          },
          "execution_count": 25
        }
      ]
    },
    {
      "cell_type": "code",
      "metadata": {
        "colab": {
          "base_uri": "https://localhost:8080/",
          "height": 180
        },
        "id": "DHnlL569EpMd",
        "outputId": "3ee760a9-a9fe-4cbb-eae5-d41eeda18a30"
      },
      "source": [
        "#if you try to use the + operator on a string and an integer value, Python will not know how to handle this, and it will display an error message.\n",
        "'Alice' + 42\n"
      ],
      "execution_count": null,
      "outputs": [
        {
          "output_type": "error",
          "ename": "TypeError",
          "evalue": "ignored",
          "traceback": [
            "\u001b[0;31m---------------------------------------------------------------------------\u001b[0m",
            "\u001b[0;31mTypeError\u001b[0m                                 Traceback (most recent call last)",
            "\u001b[0;32m<ipython-input-26-5f11c97f2f1d>\u001b[0m in \u001b[0;36m<module>\u001b[0;34m()\u001b[0m\n\u001b[1;32m      1\u001b[0m \u001b[0;31m#if you try to use the + operator on a string and an integer value, Python will not know how to handle this, and it will display an error message.\u001b[0m\u001b[0;34m\u001b[0m\u001b[0;34m\u001b[0m\u001b[0;34m\u001b[0m\u001b[0m\n\u001b[0;32m----> 2\u001b[0;31m \u001b[0;34m'Alice'\u001b[0m \u001b[0;34m+\u001b[0m \u001b[0;36m42\u001b[0m\u001b[0;34m\u001b[0m\u001b[0;34m\u001b[0m\u001b[0m\n\u001b[0m",
            "\u001b[0;31mTypeError\u001b[0m: can only concatenate str (not \"int\") to str"
          ]
        }
      ]
    },
    {
      "cell_type": "markdown",
      "metadata": {
        "id": "agFLkmR1OZ_y"
      },
      "source": [
        "Replication\n",
        "\n",
        "The * operator multiplies two integer or floating-point values. But\n",
        "when the * operator is used on one string value and one integer value,\n",
        "it becomes the string replication operator\n",
        "\n",
        "\n"
      ]
    },
    {
      "cell_type": "code",
      "metadata": {
        "colab": {
          "base_uri": "https://localhost:8080/",
          "height": 35
        },
        "id": "3j0i5Ms5EpUN",
        "outputId": "10348a43-080c-4739-aed2-3b45be256db8"
      },
      "source": [
        "'Alice' * 5\n"
      ],
      "execution_count": null,
      "outputs": [
        {
          "output_type": "execute_result",
          "data": {
            "application/vnd.google.colaboratory.intrinsic+json": {
              "type": "string"
            },
            "text/plain": [
              "'AliceAliceAliceAliceAlice'"
            ]
          },
          "metadata": {
            "tags": []
          },
          "execution_count": 27
        }
      ]
    },
    {
      "cell_type": "code",
      "metadata": {
        "colab": {
          "base_uri": "https://localhost:8080/",
          "height": 129
        },
        "id": "AmJLg9iWOM7D",
        "outputId": "950e1da1-d550-4a3d-d8e8-0c0bce9edfef"
      },
      "source": [
        "# The * operator can be used with only one string value and one integer value (for string replication).\n",
        " 'Alice' * 'Bob'\n",
        "\n"
      ],
      "execution_count": null,
      "outputs": [
        {
          "output_type": "error",
          "ename": "IndentationError",
          "evalue": "ignored",
          "traceback": [
            "\u001b[0;36m  File \u001b[0;32m\"<ipython-input-28-825e3a61cea9>\"\u001b[0;36m, line \u001b[0;32m2\u001b[0m\n\u001b[0;31m    'Alice' * 'Bob'\u001b[0m\n\u001b[0m    ^\u001b[0m\n\u001b[0;31mIndentationError\u001b[0m\u001b[0;31m:\u001b[0m unexpected indent\n"
          ]
        }
      ]
    },
    {
      "cell_type": "code",
      "metadata": {
        "colab": {
          "base_uri": "https://localhost:8080/",
          "height": 163
        },
        "id": "dnV_srmaONAL",
        "outputId": "767c7aa7-8943-4ff4-f0b1-225c1ef4122d"
      },
      "source": [
        "'Alice' * 5.0\n"
      ],
      "execution_count": null,
      "outputs": [
        {
          "output_type": "error",
          "ename": "TypeError",
          "evalue": "ignored",
          "traceback": [
            "\u001b[0;31m---------------------------------------------------------------------------\u001b[0m",
            "\u001b[0;31mTypeError\u001b[0m                                 Traceback (most recent call last)",
            "\u001b[0;32m<ipython-input-29-43325524c797>\u001b[0m in \u001b[0;36m<module>\u001b[0;34m()\u001b[0m\n\u001b[0;32m----> 1\u001b[0;31m \u001b[0;34m'Alice'\u001b[0m \u001b[0;34m*\u001b[0m \u001b[0;36m5.0\u001b[0m\u001b[0;34m\u001b[0m\u001b[0;34m\u001b[0m\u001b[0m\n\u001b[0m",
            "\u001b[0;31mTypeError\u001b[0m: can't multiply sequence by non-int of type 'float'"
          ]
        }
      ]
    },
    {
      "cell_type": "markdown",
      "metadata": {
        "id": "m2DTh5K5PS5c"
      },
      "source": [
        "# **Variables**\n",
        "\n",
        "\n",
        "\n"
      ]
    },
    {
      "cell_type": "markdown",
      "metadata": {
        "id": "84RyIEMYPq_j"
      },
      "source": [
        "A variable is like a box in the computer’s memory where you can store a\n",
        "single value."
      ]
    },
    {
      "cell_type": "markdown",
      "metadata": {
        "id": "SR4RR_r4P15Q"
      },
      "source": [
        "**Assignment Statements**\n",
        "\n",
        "You’ll store values in variables with an assignment statement. An assignment\n",
        "statement consists of a variable name, an equal sign (called the assignment\n",
        "operator), and the value to be stored. If you enter the assignment statement\n",
        "spam =\n",
        "42,\n",
        "then a\n",
        "variable\n",
        "named\n",
        "spam\n",
        "will\n",
        "have\n",
        "the\n",
        "integer\n",
        "value\n",
        "42\n",
        "\n",
        "stored\n",
        "in\n",
        "it.\n",
        "\n"
      ]
    },
    {
      "cell_type": "code",
      "metadata": {
        "colab": {
          "base_uri": "https://localhost:8080/"
        },
        "id": "g1qK0OcNONDx",
        "outputId": "937bf895-a021-4d77-f69c-ba7c8af8105c"
      },
      "source": [
        "spam = 40\n",
        "eggs = 2\n",
        "spam + eggs + spam"
      ],
      "execution_count": null,
      "outputs": [
        {
          "output_type": "execute_result",
          "data": {
            "text/plain": [
              "82"
            ]
          },
          "metadata": {
            "tags": []
          },
          "execution_count": 11
        }
      ]
    },
    {
      "cell_type": "markdown",
      "metadata": {
        "id": "u-xf5rOpTW90"
      },
      "source": [
        "**overwriting the variable**"
      ]
    },
    {
      "cell_type": "code",
      "metadata": {
        "colab": {
          "base_uri": "https://localhost:8080/"
        },
        "id": "w2bGAP0SEp3l",
        "outputId": "9963e30d-8f28-4441-93d4-022095471c9a"
      },
      "source": [
        "spam = spam + 2\n",
        "spam"
      ],
      "execution_count": null,
      "outputs": [
        {
          "output_type": "execute_result",
          "data": {
            "text/plain": [
              "42"
            ]
          },
          "metadata": {
            "tags": []
          },
          "execution_count": 12
        }
      ]
    },
    {
      "cell_type": "markdown",
      "metadata": {
        "id": "5O4ydQ-ZToLr"
      },
      "source": [
        "A variable is initialized (or created) the first time a value is stored in it.\n",
        "\n",
        "1 After that, you can use it in expressions with other variables and values.\n",
        "\n",
        "2 When a variable is assigned a new value , \n",
        "\n",
        "3 the old value is forgotten, which is why spam evaluated to 42 instead of 40 at the end of the example. \n",
        "\n",
        "\n",
        "This is called **overwriting** the variable."
      ]
    },
    {
      "cell_type": "code",
      "metadata": {
        "colab": {
          "base_uri": "https://localhost:8080/",
          "height": 35
        },
        "id": "iwGj7MoSUOTk",
        "outputId": "4c80ee89-9694-4fc0-ee52-ac97d9ecb4d1"
      },
      "source": [
        "spam = 'Hello'\n",
        "spam"
      ],
      "execution_count": null,
      "outputs": [
        {
          "output_type": "execute_result",
          "data": {
            "application/vnd.google.colaboratory.intrinsic+json": {
              "type": "string"
            },
            "text/plain": [
              "'Hello'"
            ]
          },
          "metadata": {
            "tags": []
          },
          "execution_count": 13
        }
      ]
    },
    {
      "cell_type": "code",
      "metadata": {
        "id": "Vm_R59u7UR7L"
      },
      "source": [
        "spam = 'Goodbye'\n"
      ],
      "execution_count": null,
      "outputs": []
    },
    {
      "cell_type": "markdown",
      "metadata": {
        "id": "Eh56ll0tUiCz"
      },
      "source": [
        "**3 rules to name a variable**\n",
        "\n",
        "**•** It can be only one word with no spaces.\n",
        "\n",
        "**•** It can use only letters, numbers, and the underscore (_) character.\n",
        "\n",
        "**•**\tIt can’t begin with a number.\n",
        "\n",
        "![Capture.JPG](data:image/jpeg;base64,/9j/4AAQSkZJRgABAQEAYABgAAD/4RDcRXhpZgAATU0AKgAAAAgABAE7AAIAAAAGAAAISodpAAQAAAABAAAIUJydAAEAAAAMAAAQyOocAAcAAAgMAAAAPgAAAAAc6gAAAAgAAAAAAAAAAAAAAAAAAAAAAAAAAAAAAAAAAAAAAAAAAAAAAAAAAAAAAAAAAAAAAAAAAAAAAAAAAAAAAAAAAAAAAAAAAAAAAAAAAAAAAAAAAAAAAAAAAAAAAAAAAAAAAAAAAAAAAAAAAAAAAAAAAAAAAAAAAAAAAAAAAAAAAAAAAAAAAAAAAAAAAAAAAAAAAAAAAAAAAAAAAAAAAAAAAAAAAAAAAAAAAAAAAAAAAAAAAAAAAAAAAAAAAAAAAAAAAAAAAAAAAAAAAAAAAAAAAAAAAAAAAAAAAAAAAAAAAAAAAAAAAAAAAAAAAAAAAAAAAAAAAAAAAAAAAAAAAAAAAAAAAAAAAAAAAAAAAAAAAAAAAAAAAAAAAAAAAAAAAAAAAAAAAAAAAAAAAAAAAAAAAAAAAAAAAAAAAAAAAAAAAAAAAAAAAAAAAAAAAAAAAAAAAAAAAAAAAAAAAAAAAAAAAAAAAAAAAAAAAAAAAAAAAAAAAAAAAAAAAAAAAAAAAAAAAAAAAAAAAAAAAAAAAAAAAAAAAAAAAAAAAAAAAAAAAAAAAAAAAAAAAAAAAAAAAAAAAAAAAAAAAAAAAAAAAAAAAAAAAAAAAAAAAAAAAAAAAAAAAAAAAAAAAAAAAAAAAAAAAAAAAAAAAAAAAAAAAAAAAAAAAAAAAAAAAAAAAAAAAAAAAAAAAAAAAAAAAAAAAAAAAAAAAAAAAAAAAAAAAAAAAAAAAAAAAAAAAAAAAAAAAAAAAAAAAAAAAAAAAAAAAAAAAAAAAAAAAAAAAAAAAAAAAAAAAAAAAAAAAAAAAAAAAAAAAAAAAAAAAAAAAAAAAAAAAAAAAAAAAAAAAAAAAAAAAAAAAAAAAAAAAAAAAAAAAAAAAAAAAAAAAAAAAAAAAAAAAAAAAAAAAAAAAAAAAAAAAAAAAAAAAAAAAAAAAAAAAAAAAAAAAAAAAAAAAAAAAAAAAAAAAAAAAAAAAAAAAAAAAAAAAAAAAAAAAAAAAAAAAAAAAAAAAAAAAAAAAAAAAAAAAAAAAAAAAAAAAAAAAAAAAAAAAAAAAAAAAAAAAAAAAAAAAAAAAAAAAAAAAAAAAAAAAAAAAAAAAAAAAAAAAAAAAAAAAAAAAAAAAAAAAAAAAAAAAAAAAAAAAAAAAAAAAAAAAAAAAAAAAAAAAAAAAAAAAAAAAAAAAAAAAAAAAAAAAAAAAAAAAAAAAAAAAAAAAAAAAAAAAAAAAAAAAAAAAAAAAAAAAAAAAAAAAAAAAAAAAAAAAAAAAAAAAAAAAAAAAAAAAAAAAAAAAAAAAAAAAAAAAAAAAAAAAAAAAAAAAAAAAAAAAAAAAAAAAAAAAAAAAAAAAAAAAAAAAAAAAAAAAAAAAAAAAAAAAAAAAAAAAAAAAAAAAAAAAAAAAAAAAAAAAAAAAAAAAAAAAAAAAAAAAAAAAAAAAAAAAAAAAAAAAAAAAAAAAAAAAAAAAAAAAAAAAAAAAAAAAAAAAAAAAAAAAAAAAAAAAAAAAAAAAAAAAAAAAAAAAAAAAAAAAAAAAAAAAAAAAAAAAAAAAAAAAAAAAAAAAAAAAAAAAAAAAAAAAAAAAAAAAAAAAAAAAAAAAAAAAAAAAAAAAAAAAAAAAAAAAAAAAAAAAAAAAAAAAAAAAAAAAAAAAAAAAAAAAAAAAAAAAAAAAAAAAAAAAAAAAAAAAAAAAAAAAAAAAAAAAAAAAAAAAAAAAAAAAAAAAAAAAAAAAAAAAAAAAAAAAAAAAAAAAAAAAAAAAAAAAAAAAAAAAAAAAAAAAAAAAAAAAAAAAAAAAAAAAAAAAAAAAAAAAAAAAAAAAAAAAAAAAAAAAAAAAAAAAAAAAAAAAAAAAAAAAAAAAAAAAAAAAAAAAAAAAAAAAAAAAAAAAAAAAAAAAAAAAAAAAAAAAAAAAAAAAAAAAAAAAAAAAAAAAAAAAAAAAAAAAAAAAAAAAAAAAAAAAAAAAAAAAAAAAAAAAAAAAAAAAAAAAAAAAAAAAAAAAAAAAAAAAAAAAAAAAAAAAAAAAAAAAAAAAAAAAAAAAAAAAAAAAAAAAAAAAAAAAAAAAAAAAAAAAAAAAAAAAAAAAAAAAAAAAAAAAAAAAAAAAAAAAAAAAAAAAAAAAAAAAAAAAAAAAAAAAAAAAAAAAAAAAAAAAAAAAAAAAAAAAAAAAAAAAAAAAAAAAAAAAAAAAAAAAAAAAAAAAAAAAAAAAAAAAAAAAAAAAAAAAAAAAAAAAAAAAAAAAAAAAAAAAAAAAAAAAAAAAAAAAAAAAAAAAAAAAAAAAAAAAAAAAAAAAAAAAAAAAAAAAAAAAAAAAAAAAAAAAAAAAAAAAAAAAAAAAAAAAAAAAAAAAAAAAAAAAAAAAAAAAAAAAAAAAAAAAAAAAAAAAAAAAAAAAAAAAAAAAAAAAAAAAAAAAAAAAAAAAAAAAAAAAAAAAAAAAAAAAAAAAAAAAAAAAAAAAAAAAAAAAAAAAAAAAAAAAAAAAAAAAAAAAAAAAAAAAAAAAAAAAAAAAAAAAAAAAAAAAAAAAAAAAAAAAAAAAAAAAAAAAAAAAAAAAAAAAAAAAAAAAAAAAAAAAAAAAAAAAAAAAAAAAAAAAAAAAAAAAAAAAAAAAAAAAAAAAAAAAAAAAAAAAAAAAAAAAAAAAAAAAAAAAAAAAAAAAAAAAAAAAAAAAAAAAAAAAAAAAAAAAAAAAAAAAAAAAAAAAAAAAAAAAAAAAAAAAAAAAAAAAAAAAAAAAAAAAAAAAAAAAAAAAHdpbjEwAAAFkAMAAgAAABQAABCekAQAAgAAABQAABCykpEAAgAAAAM2NgAAkpIAAgAAAAM2NgAA6hwABwAACAwAAAiSAAAAABzqAAAACAAAAAAAAAAAAAAAAAAAAAAAAAAAAAAAAAAAAAAAAAAAAAAAAAAAAAAAAAAAAAAAAAAAAAAAAAAAAAAAAAAAAAAAAAAAAAAAAAAAAAAAAAAAAAAAAAAAAAAAAAAAAAAAAAAAAAAAAAAAAAAAAAAAAAAAAAAAAAAAAAAAAAAAAAAAAAAAAAAAAAAAAAAAAAAAAAAAAAAAAAAAAAAAAAAAAAAAAAAAAAAAAAAAAAAAAAAAAAAAAAAAAAAAAAAAAAAAAAAAAAAAAAAAAAAAAAAAAAAAAAAAAAAAAAAAAAAAAAAAAAAAAAAAAAAAAAAAAAAAAAAAAAAAAAAAAAAAAAAAAAAAAAAAAAAAAAAAAAAAAAAAAAAAAAAAAAAAAAAAAAAAAAAAAAAAAAAAAAAAAAAAAAAAAAAAAAAAAAAAAAAAAAAAAAAAAAAAAAAAAAAAAAAAAAAAAAAAAAAAAAAAAAAAAAAAAAAAAAAAAAAAAAAAAAAAAAAAAAAAAAAAAAAAAAAAAAAAAAAAAAAAAAAAAAAAAAAAAAAAAAAAAAAAAAAAAAAAAAAAAAAAAAAAAAAAAAAAAAAAAAAAAAAAAAAAAAAAAAAAAAAAAAAAAAAAAAAAAAAAAAAAAAAAAAAAAAAAAAAAAAAAAAAAAAAAAAAAAAAAAAAAAAAAAAAAAAAAAAAAAAAAAAAAAAAAAAAAAAAAAAAAAAAAAAAAAAAAAAAAAAAAAAAAAAAAAAAAAAAAAAAAAAAAAAAAAAAAAAAAAAAAAAAAAAAAAAAAAAAAAAAAAAAAAAAAAAAAAAAAAAAAAAAAAAAAAAAAAAAAAAAAAAAAAAAAAAAAAAAAAAAAAAAAAAAAAAAAAAAAAAAAAAAAAAAAAAAAAAAAAAAAAAAAAAAAAAAAAAAAAAAAAAAAAAAAAAAAAAAAAAAAAAAAAAAAAAAAAAAAAAAAAAAAAAAAAAAAAAAAAAAAAAAAAAAAAAAAAAAAAAAAAAAAAAAAAAAAAAAAAAAAAAAAAAAAAAAAAAAAAAAAAAAAAAAAAAAAAAAAAAAAAAAAAAAAAAAAAAAAAAAAAAAAAAAAAAAAAAAAAAAAAAAAAAAAAAAAAAAAAAAAAAAAAAAAAAAAAAAAAAAAAAAAAAAAAAAAAAAAAAAAAAAAAAAAAAAAAAAAAAAAAAAAAAAAAAAAAAAAAAAAAAAAAAAAAAAAAAAAAAAAAAAAAAAAAAAAAAAAAAAAAAAAAAAAAAAAAAAAAAAAAAAAAAAAAAAAAAAAAAAAAAAAAAAAAAAAAAAAAAAAAAAAAAAAAAAAAAAAAAAAAAAAAAAAAAAAAAAAAAAAAAAAAAAAAAAAAAAAAAAAAAAAAAAAAAAAAAAAAAAAAAAAAAAAAAAAAAAAAAAAAAAAAAAAAAAAAAAAAAAAAAAAAAAAAAAAAAAAAAAAAAAAAAAAAAAAAAAAAAAAAAAAAAAAAAAAAAAAAAAAAAAAAAAAAAAAAAAAAAAAAAAAAAAAAAAAAAAAAAAAAAAAAAAAAAAAAAAAAAAAAAAAAAAAAAAAAAAAAAAAAAAAAAAAAAAAAAAAAAAAAAAAAAAAAAAAAAAAAAAAAAAAAAAAAAAAAAAAAAAAAAAAAAAAAAAAAAAAAAAAAAAAAAAAAAAAAAAAAAAAAAAAAAAAAAAAAAAAAAAAAAAAAAAAAAAAAAAAAAAAAAAAAAAAAAAAAAAAAAAAAAAAAAAAAAAAAAAAAAAAAAAAAAAAAAAAAAAAAAAAAAAAAAAAAAAAAAAAAAAAAAAAAAAAAAAAAAAAAAAAAAAAAAAAAAAAAAAAAAAAAAAAAAAAAAAAAAAAAAAAAAAAAAAAAAAAAAAAAAAAAAAAAAAAAAAAAAAAAAAAAAAAAAAAAAAAAAAAAAAAAAAAAAAAAAAAAAAAAAAAAAAAAAAAAAAAAAAAAAAAAAAAAAAAAAAAAAAAAAAAAAAAAAAAAAAAAAAAAAAAAAAAAAAAAAAAAAAAAAAAAAAAAAAAAAAAAAAAAAAAAAAAAAAAAAAAAAAAAAAAAAAAAAAAAAAAAAAAAAAAAAAAAAAAAAAAAAAAAAAAAAAAAAAAAAAAAAAAAAAAAAAAAAAAAAAAAAAAAAAAAAAAAAAAAAAAAAAAAAAAAAAAAAAAAAAAAAAAAAAAAAAAAAAAAAAAAAAAAAAAAAAAAAAAAAAAAAAAAAAAAAAAAAAAAAAAAAAAAAAAAAAAAAAAAAAAAAAAAAAAAAAAAAAAAAAAAAAAAAAAAAAAAAAAAAAAAAAAAAAAAAAAAAAAAAAAAAAAAAAAAAAAAAAAAAAAAAAAAAAAAAAAAAAAAAAAAAAAAAAAAAAAAAAAAAAAAAAAAAAAAAAAAAAAAAAAAAAAAAAAAAAAAAAAAAAAAAAAAAAAAAAAAAAAAAAAAAAAAAAAAAAAAAAAAAAAAAAAAAAAAAAAAAAAAAAAAAAAAAAAAAAAAAAAAAAAAAAAAAAAAAAAAAAAAAAAAAAAAAAAAAAAAAAAAAAAAAAAAAAAAAAAAAAAAAAAAAAAAAAAAAAAAAAAAAAAAAAAAAAAAAAAAAAAAAAAAAAAAAAAAAAAAAAAAAAAAAAAAAAAAAAAAAAAAAAAAAAAAAAAAAAAAAAAAAAAAAAAAAAAAAAAAAAAAAAAAAAAAAAAAAAAAAAAAAAAAAAAAAAAAAAAAAAAAAAAAAAAAAAAAAAAAAAAAAAAAAAAAAAAAAAAAAAAAAAAAAAAAAAAAAAAAAAAAAAAAAAAMjAyMTowMzoyNyAxNjoyNjo0MgAyMDIxOjAzOjI3IDE2OjI2OjQyAAAAdwBpAG4AMQAwAAAA/+ELGGh0dHA6Ly9ucy5hZG9iZS5jb20veGFwLzEuMC8APD94cGFja2V0IGJlZ2luPSfvu78nIGlkPSdXNU0wTXBDZWhpSHpyZVN6TlRjemtjOWQnPz4NCjx4OnhtcG1ldGEgeG1sbnM6eD0iYWRvYmU6bnM6bWV0YS8iPjxyZGY6UkRGIHhtbG5zOnJkZj0iaHR0cDovL3d3dy53My5vcmcvMTk5OS8wMi8yMi1yZGYtc3ludGF4LW5zIyI+PHJkZjpEZXNjcmlwdGlvbiByZGY6YWJvdXQ9InV1aWQ6ZmFmNWJkZDUtYmEzZC0xMWRhLWFkMzEtZDMzZDc1MTgyZjFiIiB4bWxuczpkYz0iaHR0cDovL3B1cmwub3JnL2RjL2VsZW1lbnRzLzEuMS8iLz48cmRmOkRlc2NyaXB0aW9uIHJkZjphYm91dD0idXVpZDpmYWY1YmRkNS1iYTNkLTExZGEtYWQzMS1kMzNkNzUxODJmMWIiIHhtbG5zOnhtcD0iaHR0cDovL25zLmFkb2JlLmNvbS94YXAvMS4wLyI+PHhtcDpDcmVhdGVEYXRlPjIwMjEtMDMtMjdUMTY6MjY6NDIuNjU4PC94bXA6Q3JlYXRlRGF0ZT48L3JkZjpEZXNjcmlwdGlvbj48cmRmOkRlc2NyaXB0aW9uIHJkZjphYm91dD0idXVpZDpmYWY1YmRkNS1iYTNkLTExZGEtYWQzMS1kMzNkNzUxODJmMWIiIHhtbG5zOmRjPSJodHRwOi8vcHVybC5vcmcvZGMvZWxlbWVudHMvMS4xLyI+PGRjOmNyZWF0b3I+PHJkZjpTZXEgeG1sbnM6cmRmPSJodHRwOi8vd3d3LnczLm9yZy8xOTk5LzAyLzIyLXJkZi1zeW50YXgtbnMjIj48cmRmOmxpPndpbjEwPC9yZGY6bGk+PC9yZGY6U2VxPg0KCQkJPC9kYzpjcmVhdG9yPjwvcmRmOkRlc2NyaXB0aW9uPjwvcmRmOlJERj48L3g6eG1wbWV0YT4NCiAgICAgICAgICAgICAgICAgICAgICAgICAgICAgICAgICAgICAgICAgICAgICAgICAgICAgICAgICAgICAgICAgICAgICAgICAgICAgICAgICAgICAgICAgICAgICAgICAgICAKICAgICAgICAgICAgICAgICAgICAgICAgICAgICAgICAgICAgICAgICAgICAgICAgICAgICAgICAgICAgICAgICAgICAgICAgICAgICAgICAgICAgICAgICAgICAgICAgICAgIAogICAgICAgICAgICAgICAgICAgICAgICAgICAgICAgICAgICAgICAgICAgICAgICAgICAgICAgICAgICAgICAgICAgICAgICAgICAgICAgICAgICAgICAgICAgICAgICAgICAgCiAgICAgICAgICAgICAgICAgICAgICAgICAgICAgICAgICAgICAgICAgICAgICAgICAgICAgICAgICAgICAgICAgICAgICAgICAgICAgICAgICAgICAgICAgICAgICAgICAgICAKICAgICAgICAgICAgICAgICAgICAgICAgICAgICAgICAgICAgICAgICAgICAgICAgICAgICAgICAgICAgICAgICAgICAgICAgICAgICAgICAgICAgICAgICAgICAgICAgICAgIAogICAgICAgICAgICAgICAgICAgICAgICAgICAgICAgICAgICAgICAgICAgICAgICAgICAgICAgICAgICAgICAgICAgICAgICAgICAgICAgICAgICAgICAgICAgICAgICAgICAgCiAgICAgICAgICAgICAgICAgICAgICAgICAgICAgICAgICAgICAgICAgICAgICAgICAgICAgICAgICAgICAgICAgICAgICAgICAgICAgICAgICAgICAgICAgICAgICAgICAgICAKICAgICAgICAgICAgICAgICAgICAgICAgICAgICAgICAgICAgICAgICAgICAgICAgICAgICAgICAgICAgICAgICAgICAgICAgICAgICAgICAgICAgICAgICAgICAgICAgICAgIAogICAgICAgICAgICAgICAgICAgICAgICAgICAgICAgICAgICAgICAgICAgICAgICAgICAgICAgICAgICAgICAgICAgICAgICAgICAgICAgICAgICAgICAgICAgICAgICAgICAgCiAgICAgICAgICAgICAgICAgICAgICAgICAgICAgICAgICAgICAgICAgICAgICAgICAgICAgICAgICAgICAgICAgICAgICAgICAgICAgICAgICAgICAgICAgICAgICAgICAgICAKICAgICAgICAgICAgICAgICAgICAgICAgICAgICAgICAgICAgICAgICAgICAgICAgICAgICAgICAgICAgICAgICAgICAgICAgICAgICAgICAgICAgICAgICAgICAgICAgICAgIAogICAgICAgICAgICAgICAgICAgICAgICAgICAgICAgICAgICAgICAgICAgICAgICAgICAgICAgICAgICAgICAgICAgICAgICAgICAgICAgICAgICAgICAgICAgICAgICAgICAgCiAgICAgICAgICAgICAgICAgICAgICAgICAgICAgICAgICAgICAgICAgICAgICAgICAgICAgICAgICAgICAgICAgICAgICAgICAgICAgICAgICAgICAgICAgICAgICAgICAgICAKICAgICAgICAgICAgICAgICAgICAgICAgICAgICAgICAgICAgICAgICAgICAgICAgICAgICAgICAgICAgICAgICAgICAgICAgICAgICAgICAgICAgICAgICAgICAgICAgICAgIAogICAgICAgICAgICAgICAgICAgICAgICAgICAgICAgICAgICAgICAgICAgICAgICAgICAgICAgICAgICAgICAgICAgICAgICAgICAgICAgICAgICAgICAgICAgICAgICAgICAgCiAgICAgICAgICAgICAgICAgICAgICAgICAgICAgICAgICAgICAgICAgICAgICAgICAgICAgICAgICAgICAgICAgICAgICAgICAgICAgICAgICAgICAgICAgICAgICAgICAgICAKICAgICAgICAgICAgICAgICAgICAgICAgICAgICAgICAgICAgICAgICAgICAgICAgICAgICAgICAgICAgICAgICAgICAgICAgICAgICAgICAgICAgICAgICAgICAgICAgICAgIAogICAgICAgICAgICAgICAgICAgICAgICAgICAgICAgICAgICAgICAgICAgICAgICAgICAgICAgICAgICAgICAgICAgICAgICAgICAgICAgICAgICAgICAgICAgICAgICAgICAgCiAgICAgICAgICAgICAgICAgICAgICAgICAgICAgICAgICAgICAgICAgICAgICAgICAgICAgICAgICAgICAgICAgICAgICAgICAgICAgICAgICAgICAgICAgICAgICAgICAgICAKICAgICAgICAgICAgICAgICAgICAgICAgICAgICAgICAgICAgICAgICAgICAgICAgICAgICAgICAgICAgICAgICAgICAgICAgICAgICAgICAgICAgICAgICAgICAgICAgICAgIAogICAgICAgICAgICAgICAgICAgICAgICAgICAgPD94cGFja2V0IGVuZD0ndyc/Pv/bAEMABwUFBgUEBwYFBggHBwgKEQsKCQkKFQ8QDBEYFRoZGBUYFxseJyEbHSUdFxgiLiIlKCkrLCsaIC8zLyoyJyorKv/bAEMBBwgICgkKFAsLFCocGBwqKioqKioqKioqKioqKioqKioqKioqKioqKioqKioqKioqKioqKioqKioqKioqKioqKv/AABEIAQsCOgMBIgACEQEDEQH/xAAfAAABBQEBAQEBAQAAAAAAAAAAAQIDBAUGBwgJCgv/xAC1EAACAQMDAgQDBQUEBAAAAX0BAgMABBEFEiExQQYTUWEHInEUMoGRoQgjQrHBFVLR8CQzYnKCCQoWFxgZGiUmJygpKjQ1Njc4OTpDREVGR0hJSlNUVVZXWFlaY2RlZmdoaWpzdHV2d3h5eoOEhYaHiImKkpOUlZaXmJmaoqOkpaanqKmqsrO0tba3uLm6wsPExcbHyMnK0tPU1dbX2Nna4eLj5OXm5+jp6vHy8/T19vf4+fr/xAAfAQADAQEBAQEBAQEBAAAAAAAAAQIDBAUGBwgJCgv/xAC1EQACAQIEBAMEBwUEBAABAncAAQIDEQQFITEGEkFRB2FxEyIygQgUQpGhscEJIzNS8BVictEKFiQ04SXxFxgZGiYnKCkqNTY3ODk6Q0RFRkdISUpTVFVWV1hZWmNkZWZnaGlqc3R1dnd4eXqCg4SFhoeIiYqSk5SVlpeYmZqio6Slpqeoqaqys7S1tre4ubrCw8TFxsfIycrS09TV1tfY2dri4+Tl5ufo6ery8/T19vf4+fr/2gAMAwEAAhEDEQA/APoTVNZ0zQ7VbnWtRtdPgZtglupliUt1xliBng03Sde0jXoZJdE1Sz1GONtrvaTrKFPoSpODWV8QbG0v/h/rYvbWG4EVjPLGJYw2xxG2GGehHrXkmg67PoWg+BtE0zU7HwpaanpBvLvVXtoz58qjAQlvlz3JPNJPe/l+v+TB9Pn+n+Z7PfeJ7DT/ABVpnh+cS/bdTjlkgKrlcRjLZOeOtF94nsNP8VaZ4fnEv23U45ZICq5XEYy2TnjrXgFl4j1rxLrvgnUb7xXa2N+x1SFdXlt49m1WCjCcLkjpn9atWnjbWdT8S+HNcvo49QvtNtdZjhmhTal95UY2uAOx9vSmnom/N/df/gB1aXp8/wCrn0bVDUNe0jSbq3ttU1Szsp7ptsEVxcLG0pyBhQTk8kdPWvKvhZ4/8S+IfENjb6tdJeW1/YNcyh/s0bW8gPAjWNy7Jg4O8Ag1q/G62gbT/C9y0MZnj8QWiJKVG5VLHIB6gHA/KnZpxT6u342Fe6bXRfpc9OZlRSzkKqjJJOABVLTdc0rWfN/sjU7O/wDJO2T7NOsmw+h2k4rnvEt1f2y6q/iiHT/+EOFswmeJ52uipAByqL0yT0PSvMNCudK0/wCJWvv4V1XSLCyk8Oh7O/sIwbeyRX4M6k4aTpyT+FSnr8v0b/Qq2n9eX+Z7lquq2ei6c99qcvk20ZUPJtLBdzBRnAPGSOe1GoatZaWbUXs3lm8nW3gAUsXkbJAAAPYE56DFU47KLX/BaWWoXUWoxX1kI5bmJQFnDJguoHABzkV5zpGrapfG4vL21kuLnwPp08LRspxcXuCoYev7pQf+2tN6Np9Py6/15oS1Sa6/n0/ryPXSdqknsM1l6L4j0/XdPsrm1lEbXsBnit5WUSlAcE7QTwDjn3ri4Nd1GHW/CSL4rTU49a8x7m38mEAqIGcFCqghQ2OpJ6c9ay/DmuXmj+HNDezhW48nwvd3Sw+WCzyI6bRuxuxyeAeaHo3f+rJv9AXvWt/V2kem6hrNvp2o6bZzrI0mpTNDCUAIDLGzndz0wp9a0K8u337+KvAk9/4kj1b7bNLcCIQxpsP2Z+Y9oB2fNj5snpzXU+LtWu7TVND0y2vf7Mi1OeRJb7arFNqFgi7wVDMehIPQ8U2mtPMSd9V2udRRXlLeJteZtTsbPxEtyYfEVnp0V4sERKxOiF1IC7S2SecdfTpVuXxFrsOoyeHv7WKt/bYsf7Wmhj3xxm2EwGAoTeSdoO3HsTSWu39bf/JIe39ev+R3dprNve61qOmRLIJ9PERlZgNp8xSwxz6CpYNUs7nVLrToZd13Zqjzx7SNgfO3nGDnaelcd4G85PHXjCG61JdTkhe0Q3ARVY/uzwwXjcM84A+lZXiPUb/SvEHjO60i4FteCLSo45SgfbvkZTweDwxo7B3PUaK88vNT8S6dN4gs7TUpdRl0YWt8hlhjDzxNuMsJ2qB0Q4IAOcc1Ug8X6vrN1p9xFqTaZo+vX0kdjcGFN0UMUfGN4I3ysCRuBwBwKN/6/r+kw2O+1fWbfRUtGulkYXd3HaR+WAcO5wCcnpVq2u7e8R3tJ451R2jYxuGCspwVOO4PavKptXvdQvZbO71ddVi07xXYQQTiNFIXarEHYACdxOT6+nSr9vr+rTm00y3vo9NF/ruoW73yQR5jWJ2KooI272x1YHoepojqv67R/wAwen9f4v8AI7yw1m31HU9SsYFkEumypFMWAwSyK428+jD0p+n6vZaoly9lN5gtZ3t5sqVKSJ94EED8+hHNcl8PjL/wkXjBLjUE1GSPUYka4RQu7FvGOQONw6HGBkdBWT4ze+0HxNeafpKuP+EyiS3hdBxDcrhJHPp+5O76x0a6JdV+ILrfp+R6LpWq2etaZFqGmy+dazAmOTYV3AEjIBAOOOverdecSX9xZT63plnrqaBaeG7SJLSDyoiJV8oMJH3gkrn5cKR90807wprGu+INZ0hbnWZY7f8A4R+01CeOKGL9/M7MGySpIBA6DHtino3p/W7/AEFqld/1t/md/a3dvfW63FlPHcQtnbJE4ZTg4OCPcVV1DWbfTdQ02znWRpNSnaCEoAQGEbOd3PTCH1rgND8Q6lf2vhzTH1NdJS+gu55LyKGJWkaObasSBlKA4JY/KSQPqayG1rUdYn0XzvEMDSw+Kbmyg1EQpjyxbuBgD5S3JAJyMn8KW70/rVIb0T/ro3+h6tq+s2+ipaNdLIwu7uO0j8sA4dzgE5PStCvK9S1LUJNQTSNQvv7TTTfEWnCK+8tUZt+WMbhQF3L7AcMOKr2vjfxRc6t9sCzJD/a5sjZytZx24jEvl4y0gm8zHzdME8bcc0R1+/8ASP8AmEtNfL/P/I9P1TWLDRLaO41W5S2hkmSFZJDhd7HCgntk8U7VNVs9G0yXUNSm8m1hALybS2MkAcDJ6kVzHxOtYL7QNMtLyJZoJtZs45I3GQ6mUAg1yfjtr/wh4Kv9CvjNe6Nc+WmnXpy7258xSIJT3GB8r/gecZI6/fb8F/n/AF1b3Xp+r/yPXqK841rxHqTf8JZcJ4hXRToSlbe2MUTCQeSHEkm8FiGJIG0jp3rOv/EviZ9P1C/tdaa3/s3w5aakIhbxMs0ziQtuyudp2dAR7YpX0v8A1qm/0Fb+vuX6nrFFeY6v4q8QeGrLXovtbapPbWVlcwyyxRqYTPIyPwNqlV27huP1Pem2PiXxOLfXLOS9SOSKyjmtbvVprNHjlZtu1hA7LtPG0kDng5pgtf6/rueoUVzvgjWJNY8Psbmeee7tbh7a4a4SNXDqeh8v5DwRyvB9q6Km1YSCiiikMKKKKACiiigAooooAKKKKACiiigAooooAKKKKACiiigAooooAKKKKACiiigAooooAKKKKACiiigAooooAKKKKAGTwRXNvJBcxJLDKpR43UMrqRggg9RVCfw5olzp9vYXGkWMtna48i3e2QxxY6bVIwPwqHxN/wAJL/Zsf/CG/wBlC+84eZ/aok8ry8HOPL53Z2+2M1y2PjH6+BvyvP8AGgDp5PBnhiWCKGTw7pTxRb/LRrKMqm85bAxxk9fWrkeh6VDLaSxaZZpJZI0ds6wKDArdVQ4+UHuBXGY+Mfr4G/K8/wAaMfGP18Dflef40AdlYaDpGlXE0+l6XZ2c0/MslvAqNJ9SBzU19ptjqaRJqNnBdrDIssazxBwjjowz0I9a4fHxj9fA35Xn+NGPjH6+BvyvP8aAPQHRZEZJFDKwwykZBFZlr4Z0Kxtbi2stG0+3guhieKK2RVlH+0AMH8a5LHxj9fA35Xn+NGPjH6+BvyvP8aAO+hhjt4UhgjWKKNQqIgwqgdAB2FNitoYXmeGJEaZ98pVcb2wBk+pwAPwrg8fGP18Dflef40Y+Mfr4G/K8/wAaAOutvDWh2V19ps9GsIJ95k82K2RW3EEFsgZzgkZ9zVi30rT7RoTa2NvCYIzDEY4lXy0JBKjA4BIBx7VxOPjH6+BvyvP8aMfGP18Dflef40AddbeGtDsrwXdno1hBcBy4mitkVwxBBOQM5wSM+9W77T7PVLRrXUrSC7t3+9FPGHU/UHiuGx8Y/XwN+V5/jRj4x+vgb8rz/GgDsYNA0e2jEdtpdnEgkSUKluqgOgwrcDqABg9qkn0fTbmK5iudPtZY7tg1wjwqwmIAALAj5jgAc+grisfGP18Dflef40Y+Mfr4G/K8/wAaAO10/R9N0lXGl6fa2QcAOLeFY92OmcDtmlm0rT7h5nnsbaVp9nms8SkybDlN3HO08jPSuJx8Y/XwN+V5/jRj4x+vgb8rz/GgDu1tLdLmW4SCNZ5lVZZQgDOFzgE9wMnH1qG40jTrvTRp93YW09kAFFvJErRgDoNpGK4rHxj9fA35Xn+NGPjH6+BvyvP8aAOxg0DR7aMR22lWUSLIkoVLdVAdBhW4HUAAA9qfNoul3FjLZz6baS2s0hlkgeBSjuTksVxgknnNcXj4x+vgb8rz/GjHxj9fA35Xn+NAHbWGlafpSOmmWNtZq5BdbeJUDEDAzgegAqeW2hmlhkliR3hYvEzDJQkEZHpwSPxrgsfGP18Dflef40Y+Mfr4G/K8/wAaAOyvtC0nU7mK41LTLO7nh/1ck8CuyfQkcVNbabY2bq9pZ28DJCsCmOIKRGv3UGP4Rk4HSuHx8Y/XwN+V5/jRj4x+vgb8rz/GgDsZ/D+j3WnJYXOlWU1nG25LeS3Vo1Oc5CkYByTTH8N6G9sLZ9HsGgDmQRG2QqGK7S2MYyRxn0rkcfGP18Dflef40Y+Mfr4G/K8/xoA7ODRNKtrOK1ttNtIreGQSxQpAqojg5DAAYB96Q6DpB1YaodLszqA6XfkL5v8A33jNcbj4x+vgb8rz/GjHxj9fA35Xn+NAHeXFpb3iot3BHOsciyIJEDbXU5DDPQg9DRc2sF7bPb3cKTQyDDxyLlWHuK4PHxj9fA35Xn+NGPjH6+BvyvP8aAOxvfD+j6ldJc6jpVldTxrtSWe3V2UegJGcU86NphiljOn2pjmhW3kXyVw8S52oRjlRk4HTk1xePjH6+BvyvP8AGjHxj9fA35Xn+NAHcnT7MySyG0gLzRiKRvLGXQZwpPcDJ49zVW18O6LZWM9lZ6RYwWtx/roIrZFST/eUDB/GuQx8Y/XwN+V5/jRj4x+vgb8rz/GgDubHT7PTLNLTTbWG0t0+5DBGERfoBxVivPsfGP18Dflef40Y+Mfr4G/K8/xoA9Borz7Hxj9fA35Xn+NGPjH6+BvyvP8AGgD0GivPsfGP18Dflef40Y+Mfr4G/K8/xoA9Borz7Hxj9fA35Xn+NGPjH6+BvyvP8aAPQaK8+x8Y/XwN+V5/jRj4x+vgb8rz/GgD0GivPsfGP18Dflef40Y+Mfr4G/K8/wAaAPQaK8+x8Y/XwN+V5/jRj4x+vgb8rz/GgD0GivPsfGP18Dflef40Y+Mfr4G/K8/xoA9Borz7Hxj9fA35Xn+NGPjH6+BvyvP8aAPQaK8+x8Y/XwN+V5/jRj4x+vgb8rz/ABoA9Borz7Hxj9fA35Xn+NGPjH6+BvyvP8aAPQaK8+x8Y/XwN+V5/jRj4x+vgb8rz/GgD0GivPsfGP18Dflef40Y+Mfr4G/K8/xoA9Borz7Hxj9fA35Xn+NGPjH6+BvyvP8AGgD0GivPsfGP18Dflef40Y+Mfr4G/K8/xoA9Borz7Hxj9fA35Xn+NGPjH6+BvyvP8aAPQaK8+x8Y/XwN+V5/jSgfGLIyfA+O/F5/jQB6BRRRQAVxfjjxhqHhHX/DR8m3bRdSvPsV7K6t5kLsP3ZBBwBnOcg9K7SuU+JnhlvFnw71TTIFJuvK861I6iZPmTHuSMfjSb5fe7fl1GlfTuUYfHc03xN1nSXexttA0Szja8vZyVYTvyF3lgoG31FZ/wAUPHMNv8Ob+98H69ayXtvNbbns50laNXkUcgZwCM1wEngXxC3wr0zVtV0m51TULvW11bW9MCFZp4uQE2nrgYO33rMvvDuoX+leO5dD8Fapo9rfTaa9nYmyZWYK+XKqoIHqQOmaaWqi+jX5p/q18hX+13/4b/g/M9z0jxLKb7Xv7dvdHgsdOlRYpIrsF41K5Pn5OEOenSsbwX4nudd+KXjC0j1Jb3SrWOzayEbK0ah4yWKkdcmvNPEfhHX7rXPEt7/YN7f6dF4hs7yexETKb+BYiG2Z+/gnoK6/4Rac8Hj3xfqFv4VvfDemXi2ptba5tvJBwrbsAfKOeSAeM046u/l+if8AXoKWit/W/wDX3npbeJNES1u7ltYsBb2MnlXUpuU2wPnG1znCnJ6Gobvxd4csJTFfa9pltIEEhSW7jUhT0bBPQ5HPvXlni74d6rffF2O2sIn/AOEY8QSRXur7UOxZLfJ2k9Bv+X68+lcX4q8J6jbad4s0u88Cajq2t3mqG6s9bt7bzVEBdSAHHIwMjYPXnpUx1tf+tl/n8kU1rb+tf6+9n0DqPi7R4Yby3stb0k6lEjiOCe8RcSBC2GGcgY5PtzUel+K7OPw5pV34l1bR7W7voQ37m8XyZG7+WxPzD6ZrzPRfBTPffEnU7/QJGv5A66dPNanewMDA+USOck4+X6Vy1j4X1HSv7NuvE3gfUfEdtc+HIrO0gS33tYzgHcGVseXk87uozxQ3Zfd+Tf8AwBbv7/zS/W56Xq/jqKD4s+HUg161Xw7d6ZcTyyidPIdlbAbf04PHWrfirxLdR/EHwHb6NqIbTtVmuPP8llZJ1WMFefTPpXkum6BeabF4DuPEHgXVNbs7HSrpLqyWxLtE7TMV3IwAJwc4PPOauaN4J8UQL4UVdLvLFZL/AFOe3iKMw02KWICJXI+5z61WzXk389X/AF8g3v5r/wBtPoC013SdQvprKx1OzubqD/WwQzq7x/VQcimal4i0XRpli1fV7GxkdDIqXNwkZKjgsAxHHvXhnws8G6np/ijQU1HSddtLzSRP9qnktoIrb5sjAlC75g2e5OK7Pxp4W/t/41eH5b/R2v8AS4dKuVkeS3MkKyHO0E4xn0BpS0tbz/BN/oC1v8vzPQrrX9HstPhvrzVbKCznx5VxLcKscmemGJwaqt4y8MrCsreIdLEbu8aubyPDMgyyg56gEZHavA9I8Mavp2i+CdR8SeEdR13StPivLefSRbF5IXaVijmJsZGMdeOPpR4U8E3t3qXheHU/Cd5b6auv6jNLaXVqzJBE0aeXvyMbcjAJ4OKdru39b2/4IPRf12f/AAx9CW3iPRLy6gtrTWLGee4TzIYo7lGaRP7ygHJHHUU+LXdJn1V9Mh1Ozkv4xl7VZ1Mq/Vc5FfP3hjwLf6ZbeD7u38PXVpfxeJrg3Ews2V47fkKXOMhMYxnimeEvAus2fiKxs9Y0nX21Gz1OW6luoYIEt3XJO4XBXe+4HG3d3pLX+vR/r+APS/8AXdfp+J9DWGtaXqss8WmajaXklu22ZIJlcxn0YA8H61drx/4L6Zqui63q9imj31loCxK0EuqWaQ3IlLEmPev+tUZJ3GvYKdtELq0FFFFIYUUUUAFVdUunsdHvLuIKXggeRQ3QlVJGfyq1VDXY3m8O6jHEjO72sqqqjJYlDgAVFS6g2i4Wclc5XwX8RrDVvAekav4p1PS9Mvr+B5mhacRLtVyuVDtnHA5zXUQeIdGupZIrbVrGaSKEXEiR3CMUiPIcgHhffpXhHhHwPd3l94Ch8Q+HbiS1tNFvEuEu7NtkUhkcqHDDAbnIB5rNg8AeLI/APhm60Syu7TU7tbjRNRilhZXjtpZWKuwPICjPJ7EVrP4nbu/zaX5L5Mzjtr/Wib/C59BP4u8OR29vPJr+mLDdKWgka7jCygdSpzyBg9K4DxH441KD4kBfD2q2EunN4bkvoftE6i0eQS4DtIO2O+cVyXiXwUfDnijV4LnwVeeJtOutHis9HktoRKLNkj2kH+4Sfm3Dn061kXHhTxC2gWUa6FqRdfBD2rKLR8ibzs+WRj72OdvWoezkvP8AKX+SKW6T62/OP+b+49y1vxTbaf4Lea81XT7TVLjTXmgVLlcSSeWTmLJywz0qDwB4iM/wl0bXfEmoRqz2ay3N3cuqLknGWJwBXkWqeGb6x1K7n1/wRf8AiRNR8PW1vpzQweZ9hlSEKysDzGd3Oevp1r1TwF4fNz8EtK0HXbSSEzab9nuLedCrpkEEEHkHmrloptf18RK3in/XwnVNrmkpcQQPqdms1zEZ4IzOoaWMDJdRnlcc5HFVIvGXhifd5PiLSpNkbSttvYztRfvMeeg7ntXhdh8NPGF94M8UDUUlbU9PtBoukhgUM1tHJvYqT/fXCg9+lUrnQp9Q1O4m8P8Aw91XQYV8L3VpIrWRXz59uAAFzknsTy1Q3o2u1/wbX6fNlJbX72/FJ/m/uPb9R8YxS6hpEXhrVdBu4bi9WC782+XeEZcgRgH5nPUD0rVk8WeHor42Umu6al0JRCYGu0Dhz0XbnOT6V5Jd+B5tP8O/DWHQtDktLlLuGbUHhtSGifycGSUgZBBPVq5LT/C9/Zw+GNKm8A6lHruna/HLf62ttvSaPzSd3mDJYYx14GPert7zj52/Im/u83l/mer/AAn8ajV9FuINf1uCXVG1O5ighmmRZWjV8KFXgkD6VJ4D8VzSz+M5vEmqxpaadrktvDJcuqJDGAMLk4HfvXj9r4U1K70iTRrTwHqVt4im15rmHXpLby0iiEudxkOCBj+HoeorQ1rwZ4luJdUuxpmpPZ2/i6W7nihtQ8k0RUBZY45BtkAOeMEc1EXon5Jf+k6/i/xKkvea83/7dp+R9G2d7a6jaJdWFzFdW8gyksLh1b6EcGqEPirw9cX4sYNc02S7aRohAl2hcuvVduc5HcVy3wg0WXSPDd872upWaXl888cGpJHHIAQBuEaACMHGduK8wk8EX66Ne6jH4duhq/8AwnAmjnFm3nfZt+d4OM+X3z0qvtqPp+aX6/gTf3W/X8E3+h7xeeK/D2n3clrf67pttcR43xTXaIy54GQTkZyKH8V+Ho9QNi+uaat2JPKNubtBIH/u7c5z7V85a34U1O10bVdHvPAmpah4hbW/ta69DbeYrwmQHIcc9ONvQdT0rT8WeBLzUYvHt43hu5uL2bXLVrOUWbM7xZG8xnGSuCckcUo6pef/ANr/AJ/gVLRv+u/+X4nv8HiDRrmxnvbbVrKW1tyVmnS4RkiI6hmBwPxpB4i0VtIOqrq9idOU4N2LlPKB6ffzivAfFXw/1o6j4vtvDui3UGlJqOnXS21tbhVuIkjbzPKVhtcgkHHPIqwfB5n8E6zcSaN4rWO61KCeFPsMAlEkatiX7KoUbckAjHPBpX0v6fp/n+Adbf11PoO1ure9tY7mznjuIJBuSWJgysPUEcGpa5f4cHWD8PdK/wCEksY7DUBERJBFEIgo3HblBwpIwSB0JrqKqSs7Exd1cKKKKQwooooAKKKKACiiigAooooAKKKKACiiigAooooAKKKKACiiigAooooAKKKKACiiigDH8TeK9G8H6bHqHiK7NpayTCBHEMkuXILAYRSeinnGOK5b/henw7/6D7/+C65/+N16DRQB59/wvT4d/wDQff8A8F1z/wDG6P8Ahenw7/6D7/8Aguuf/jdeg0UAeff8L0+Hf/Qff/wXXP8A8bo/4Xp8O/8AoPv/AOC65/8Ajdeg0UAeff8AC9Ph3/0H3/8ABdc//G6P+F6fDv8A6D7/APguuf8A43XoNNjkSWMPE6uh6MpyDQBwH/C9Ph3/ANB9/wDwXXP/AMbo/wCF6fDv/oPv/wCC65/+N13k91BbGIXM0cRmcRx72C73PRRnqeDxUtAHn3/C9Ph3/wBB9/8AwXXP/wAbo/4Xp8O/+g+//guuf/jddpeazpmnXVvbahqNraz3LbYIpplRpTnGFBOTyQOKu0Aeff8AC9Ph3/0H3/8ABdc//G6P+F6fDv8A6D7/APguuf8A43XoNFAHn3/C9Ph3/wBB9/8AwXXP/wAbo/4Xp8O/+g+//guuf/jdeg0UAeff8L0+Hf8A0H3/APBdc/8Axuj/AIXp8O/+g+//AILrn/43XoNFAHn3/C9Ph3/0H3/8F1z/APG6P+F6fDv/AKD7/wDguuf/AI3XoNFAHn3/AAvT4d/9B9//AAXXP/xuj/henw7/AOg+/wD4Lrn/AON16DRQB59/wvT4d/8AQff/AMF1z/8AG6P+F6fDv/oPv/4Lrn/43XoNFAHn3/C9Ph3/ANB9/wDwXXP/AMbo/wCF6fDv/oPv/wCC65/+N16DRQB59/wvT4d/9B9//Bdc/wDxuj/henw7/wCg+/8A4Lrn/wCN16DRQB59/wAL0+Hf/Qff/wAF1z/8bo/4Xp8O/wDoPv8A+C65/wDjdeg0UAeff8L0+Hf/AEH3/wDBdc//ABuj/henw7/6D7/+C65/+N16DRQB59/wvT4d/wDQff8A8F1z/wDG6P8Ahenw7/6D7/8Aguuf/jdeg0Zz0oA8+/4Xp8O/+g+//guuf/jdH/C9Ph3/ANB9/wDwXXP/AMbr0EnHXigHIyOaAPPv+F6fDv8A6D7/APguuf8A43R/wvT4d/8AQff/AMF1z/8AG69BooA8+/4Xp8O/+g+//guuf/jdH/C9Ph3/ANB9/wDwXXP/AMbr0GmySLFG0kjBUQFmYnAAHegDgP8Ahenw7/6D7/8Aguuf/jdH/C9Ph3/0H3/8F1z/APG67Ow1rT9Unmh0+6S4aFI5HKZI2yLuQg9CCOeKvUAeff8AC9Ph3/0H3/8ABdc//G6P+F6fDv8A6D7/APguuf8A43XoNVbDUrXU4pZLGXzUimeBztIw6MVYc+hFAHEf8L0+Hf8A0H3/APBdc/8Axuj/AIXp8O/+g+//AILrn/43XoNFAHn3/C9Ph3/0H3/8F1z/APG6P+F6fDv/AKD7/wDguuf/AI3XoNFAHn3/AAvT4d/9B9//AAXXP/xuj/henw7/AOg+/wD4Lrn/AON16DRQB59/wvT4d/8AQff/AMF1z/8AG6P+F6fDv/oPv/4Lrn/43XoNFAHn3/C9Ph3/ANB9/wDwXXP/AMbo/wCF6fDv/oPv/wCC65/+N16DRQB59/wvT4d/9B9//Bdc/wDxuj/henw7/wCg+/8A4Lrn/wCN11reJNKTUTYtdYuRdLaFNjf61o/MC5xj7nOelalAHn3/AAvT4d/9B9//AAXXP/xuj/henw7/AOg+/wD4Lrn/AON16DRQB59/wvT4d/8AQff/AMF1z/8AG6P+F6fDv/oPv/4Lrn/43XfyyLDC8sh2oilmOOgFU9M1nT9ZgEumXUdwpjSQhTyquu5SQeRkHPNAHGf8L0+Hf/Qff/wXXP8A8bo/4Xp8O/8AoPv/AOC65/8Ajdeg0UAeff8AC9Ph3/0H3/8ABdc//G6P+F6fDv8A6D7/APguuf8A43XoNFAHn3/C9Ph3/wBB9/8AwXXP/wAbo/4Xp8O/+g+//guuf/jdeg0UAeff8L0+Hf8A0H3/APBdc/8Axuj/AIXp8O/+g+//AILrn/43XoNFAHn3/C9Ph3/0H3/8F1z/APG6UfHP4eEgDXn/APBfc/8AxuvQKKACiiigArmfF+q3lneaJptldjTxql2YJL3YrGICNnwu4FdzFQBkHvxXTVXv9OstUtGtdTtILy3b70U8YdT+B4oA5K91y70PWIrS51k3NrHot1dNcTJGDJIkiAMdqgZAYjAGPas1NT8Q6g3gnyNdmtv7asS17iGE4Kwhy6ZThiTjnK+1do3hvQ3t7W3fR7BobMk28ZtkKwk9dox8v4U2Xwr4fnube4n0PTpJrVVSCR7VC0Sr90KccAdsdKF5/wBb/wCa+4P6/L/L8TnZ/wC3G+I6aPD4iuksDpoupP3MBcOrhMKfL6N1Oc+2KztH8SeKNU1j7VHFcfZBqVxazwubYQxRIXUFfm80yZVScjByeOhrtv8AhHNFOsf2sdIsf7Rzn7Z9mTzc4x9/GenvTjoGjnVTqZ0qy+3nrdfZ1808Y+9jPSlrZfP8/wCkD3fy/L+mcJ4W1TxHqQ0GPU9dmY65pEtyzRQQqbd0MW1k+Q5JDnO4EZ6AVq/Cm1lg8D2bS6rcXm5WAhmEQEJEjg42oDyeuSa62HTbG2Nubezt4jaxmKApEB5SHGVXHQHA4HoKoy6ItmlxL4Zh03TL25kDzTtZbxL1zuCshJ56k1V/6+YGL8RUuJbfw+llOLeZtagVZiobZlXycHgkDpnvWLD4nvpNLmsptavnvIdQuoLa4sobfzLuKIAl2Mi+WApbBIxnHFdfHot5qMMlv4ufSdXtThkhXTSgDDud8jg/kKuTeH9HuLa2trjSrKWC1ObeJ7dSsJ9VGMD8Km2jXf8A4H+X4jbu0+3/AAf8/wADh7rWJ9e+FfhjVb8obm6v9PeRlAAJ+0Jk4H07VJ8QPFl1ost1No+o3nnaekLzWyRQfZxvfgSM4DncM8Iciuuu/Cnh6/hghvtC025jtxthSa0RhEM5woI459KdJ4Y0GZo2l0XT3aOIQIWtUJWMdEHHC+3Sq6/O/wCX+QunyscXLr3iCPWr67/tT/QrXxDBp0dkIU2vFIIw25sbsgvkYI989tTwxqmo6zHca3c6u4Edxcwro8ccYVRGzKqkld+/Chj82OeldUdLsG37rK3O+YXDZiX5pRjDnj7w2jnrwKiXQdITVjqiaXZrqDdbsQKJTxj7+M1Kvy2/rZfqm/mHW/8AW7/4H3HG+Bde8S61cabe3yTvYX9o80/nG2CQycFREI2LkclTvBPA6dK9BqhaaDpFhfy31jpdnb3c2fMnigVXfPXLAZNX6piCiiikMKKKKACiiigAooooAKiu7hbSzmuZASkMbSMB1IAzUtIQGUhgCCMEHvSd7aDVr6nDf8JN4ij8A3Piuc6b5Mlh9rtbRIXLR5wVDvvw/B5wq81b1LxLqYvPElrpz2cb6RYQ3UbSwtJlmWRmVgHXsgxyMZ71oWvgjQbO2uraC0l+y3UTQyWz3UrQhG6qsZYqg/3QKbH4F0GGzvbaK3uFW/RI7pxezeZMq5wGffuPDEdeRweKJap8ugR0av8A1sYd94k8U2Xw3HidjpnntFDcLZC2c4R8DZv8z73zD5sYHTB61JrPifXdHvdP0mZrZ7+8hmuXmg02eeONE2gJ5cbFicv9/IHHTtW3ceC9GuvDsWhzpeNp8JBWP+0JweOgL79xA7AnAwKnvfC+l6hb2kV0lyzWYKwTreSpMgIwR5oYOc4GcnnHNVKzbtsTHRK5xl3478TNb3U9tp1pZCx0SPVLmG9ik8zdukDRAZUjIj4JHHcHPF6KTX7j4qr5Wp2aWb6Uk4ga0dsRmXlc+aBv/wBvH4V0r+FtIkhuY5LZnW7sxYzl5nJeEbsKSTn+NuevPWnXXhvTLzULS9lilW5s08uKSG4kjOzIO1trDcuQDhsihW5k/X9f+ADvytf10/4Io8QWL622kBbz7UM5JsphF0z/AK3bs6f7XtXAeB/EWq6Vo3h+1vzYpp1/DdiFiGDwGLc292zgqQDxgY45Nep1z9n4G8PWKyrDYs6yQvBtnnklCRv99EDsdgPcLip1K0Mfw/r7+JdZ1HQNbSz1O1FnFcrIthJBHIrMw2lJS28fKCGBwah8JXv9kfCOxkt7q1sSskkcTTwtIgzOwChFILHsFBrftPBOh2PnG0huY5Z4Ft5JxezeaY1OVXzN+4Y7YPTjpUdv4D0C20c6XFBdfZPNWZEe/nYxOpJDIxfchySflI603t/Xf/IS8/60/wAzm7Lx1r2prYWdlFZC8n1a406Wea2ljQLHEZBJ5TMGU9PlJ/HvVrTfGOt64dM02wWwtdSnhuZbm4mjd4lEM3lfIgYE7m55bgetdHY+EdE02WGSysvLeG5e6RjK7HzXTYzHJ5JX1+vWo5/BOg3FvBCbSSL7M8skMkFzLFIhkYs+HVg2CTkjOKO39dP89Q/r8f8ALQwPEHjPWNN1ifS9PtluLmxsI7qYR6fPOLl3LYjTy8+X9w/M2eo44Na3jm8k/wCFXa1dIjwSSabIdrDDJuTofcZq7eeEtIvpIJZorhJYIRAssF5LE7RjorMjAuPZs9TU/iDSRrPhfUdJU7ftdrJArE/dLKQDSl8LHH40/wCuh59PqGq+GPEHia90eOyNhp1rYNPFMrF5EEZG1CCApA5yc/StufxpqUOoz6D5Nt/bjajHDartbY9q/wA/nEZz8qK4PP3l9627bwzaXOjzR6zao91qNrDFqOyVtshRcYByMDr0xUFpok1x8QrzXr+0SJLW1Wx09iVLOp+eR+ORzhQD/dPrVv49f6/rb0bIXwf1/XmYdp4y18aONevhpjaeuqNYtbQxuJSv2gwhw5Yjd0JXbzzyKpeG9Y1jSLxty2baTe+JLyz2bW88M0kjB92cYyuNuPfPatfwp4BsLO3S71fTyuoJfXFyFM7NHuMzskmwNsLbSOcZFdGvhvSkjjRbXCxXrX6DzG4nYkl+vqx46c9KmOlr/wBbf5MqWt0v63t+aOL0D4jatrOsWTjTZH06/uXgVE025VrdBuCyNOV8pgdvIGMZ6nFWdA8Ya/ePo8+pRae8GrvdRQw28bo8bRbypLFiCGCHjAxnqa6O38GaDaawNTgsdtwsjSoPOcxxu2dzrGTsVjk8gA8mpY/C2jR21nbrZAxWJkaBGdiF8wMH6nnIduuetH2fMfXyM/wT4hv9cs7qPW1hg1O2kAmtY4XjaAMMgEMTu74dThsZ46Vja14x1+LR/EGs6QNNS00ad7cW91G5klZMBmLBgF5PC4OcdRmur0Pw1pXhyOZdItmh84r5jPK8jEKMKNzEnAHQdB2qlqvgLw5rV1cXGo6eZGuseeqzyIkpAwGZFYKWGBhiMjHWm9/6/ruJbGFqnjbWNMbxPfNFaSaforRRRQJC5mmkkjjYZYMcANJ2Ukj9b/g7xRqusand2OrWj4ihSaO7XTri0jbJIMe2YZJGAcg8g9BW+dA0tk1FHtEdNTIN2jksJcIEGQenyqBx6VFo3hjStAkmk02B1lmAV5Zp3mcqOi7nJIUZ4HSheYuhzOveLdd07VfED2iWH9naHHbyukkTmWcOMsoYMApAHBwfp3pb7xhra2us61YRWA0nRp5IpbeYN584jxvYMDtTvtBBzxyM10934c0q+GpC6td41RES7/eMPMVRhRweMD0xVa78F6Bfamb+6sd8zMryKJXWOVlxtZ4wdrkYHLA9KS3KZmeFLjUrnxr4qNzdpLZLPB5EPlsGjzAjdSxGMHkADnn2rP1rxjr8Wj+INZ0gaalpo0724t7qNzJKyYDMWDALyeFwc46jNdtbabaWd7eXdvFsmvXV523E7yqhQcHgcADisfVfAXhzWrq4uNR08yNdY89VnkRJSBgMyKwUsMDDEZGOtHVen9fqJbanGXUm3x9JK3bxLbscD/qHGti08X69JYaVrU8enDS9YnSGCBFczweZkRszbsPzjcoAxzycV1B8M6SdQ+2m1/0j7St3v8xv9asflBsZx9zjHSq9p4M0Gx1VdQtrHZOjtJGplcxxO2cskZOxScnkAHk0Lt/Wy/y+Qv8AL/P/ADORj+KzWtxaJq9qkKWqSRa3KmdtpcAsI1GT0cxtj2ZfWoLn4ieJI5Vtf7OjjvYbGO9uIl026uA5kLFIQYgfLIVQCzZ56Cu+uPDWj3S3y3GnwyLqEqTXQK/61027SfptFQ6z4R0XXrlbjU7VnlCeUWineIumc7H2MNy+zZHNLW39f1v+CK0v/X9bHN3PifXtcj1FNGtbSyhsrCOa5i1FHErvLEX8sYI2YHG4g89uKqfDoeTrFgqcC58LWEjgf3lLqD+R/Sut1DwdoepuGubNl/ci3ZYJnhWSIdEcIwDqMnAbI5qDQ/DR0jxLeXUSJFYpY21hYxK5YpHHuJzn3bHU9KpWTb/raX+aJd3G39bx/wAmdHRRRSGFFFFABRRRQAUUUUAFFFFABRRRQAUVn6zNJBZo0LlGMgGR9DWL/aN3/wA/En50AdVRXK/2jd/8/En50f2jd/8APxJ+dAHVUVyv9o3f/PxJ+dH9o3f/AD8SfnQB1VFcr/aN3/z8SfnR/aN3/wA/En50AdVRXK/2jd/8/En50f2jd/8APxJ+dAHVUVyv9o3f/PxJ+dH9o3f/AD8SfnQB1VFcr/aN3/z8SfnR/aN3/wA/En50AdVRXK/2jd/8/En50f2jd/8APxJ+dAHVUVyv9o3f/PxJ+dH9o3f/AD8SfnQB1VFcr/aN3/z8SfnR/aN3/wA/En50AdVRXK/2jd/8/En50f2jd/8APxJ+dAHVUVyv9o3f/PxJ+dH9o3f/AD8SfnQB1VFcr/aN3/z8SfnR/aN3/wA/En50AdVRXK/2jd/8/En50f2jd/8APxJ+dAHVUVyv9o3f/PxJ+dH9o3f/AD8SfnQB1VFcr/aN3/z8SfnR/aN3/wA/En50AdVRXK/2jd/8/En50f2jd/8APxJ+dAHVUVyv9o3f/PxJ+dH9o3f/AD8SfnQB1VFcr/aN3/z8SfnR/aN3/wA/En50AdVRXK/2jd/8/En50n9o3Y63D/nQB1dFcoNSumUFblyDyCG60v8AaN3/AM/En50COqorlf7Ru/8An4k/Oj+0bv8A5+JPzoGdVRXK/wBo3f8Az8SfnR/aN3/z8SfnQB1VFcr/AGjd/wDPxJ+dH9o3f/PxJ+dAHVUVyv8AaN3/AM/En50f2jd/8/En50AdVRXK/wBo3f8Az8SfnR/aN3/z8SfnQB1VFcr/AGjd/wDPxJ+dVl8QBpBGupIXaQxBRKMlwMlceoHOKAOzorlf7Ru/+fiT86P7Ru/+fiT86AOqorlf7Ru/+fiT86jm1ae3geae8MUUalnd3wqgdST2FAHXUVyaapcyDKXTMPUNmnf2jd/8/En50xXOqorlf7Ru/wDn4k/Oj+0bv/n4k/OkM6qiuV/tG7/5+JPzo/tG7/5+JPzoA6qiuV/tG7/5+JPzo/tG7/5+JPzoA6qiuV/tG7/5+JPzo/tG7/5+JPzoA6qiuV/tG7/5+JPzo/tC7/5+JPzoA6qiiigDM17/AI8E/wCuo/ka4rWtZfTHs7e1tvtV7fSmKCIybF4UszM2DgAD0P0rtde/48E/66j+RrjdY0SHWFt2eae2uLWXzYLi3YB42wQcZBBBBIIIIoAq/wBvXMF/HZX9jHFObGW7fy596rsYDaCVGc7s5wPpWe/i7UGbQhaaRFN/bVv5kObsr5bbA5DfIflAP3hz7VcvfCUV+sBudTvzNHDJbyTq6B543ILK2Fx2HKgGkHhGNLjSZINUvoV0mIRQRqIipG0Kd2UJJIGDyPbFNef9b/8AAF/X5f8ABGTeIdWj8TJosekWzyvbC5Ev2xgirna2793wc9MZz7VTt/iBaXOspaIluYZLqS0QrdAzb03ctFjIUlSAc+nHNbH/AAj/APxVH9t/2neeZ5Xk/Z8ReXsznb9zd15zuzTbTw3HY3jyWmoXkVtJI8psgUMW58liCV3Dkk43YzS1t9/5/wCQPr/XT/MytH8Y6hq62ezR44G1Cze6sxJdnDbCoYPhPl++CCM59BWZD4g19fhXNql20cFwqKYrmGTzpGzLtJKGMAEDp97NdVYeGrPTm0xoZJm/sy1e1h3sPmVtuS3HX5B0x3qp/wAIbb/2Fd6ONRvvsc5zGmY/9H+ff8h2ev8Ae3U2CM7Q/Ed81jq7m4W8WyuVSJ9UIs5AhQEmQBBtGc4+QZFV9Y1oa/8AD251i2kmtLizmMYNpePs3rKFJDIQHU9sjv0rYk8FWsyM82oXsl69xHcNesY/MLICqjbs2YAJ42989abN4It5NBl0mLVNQht553nmZWjZ5GZgxyWQ8ZGeMU/6/L/gh/X5/wDALXiXXpdAshcpFZvGEZn+1XnkE4Gdq/KdxPpxWTdePJY/Pls9KM9pbWUF9NK8+wiOXPAG05YAdMge9aN94Ri1F4ZLrU75pkt3tpJVMatNGxyQcJgfVdpoHg3Txp13Z+dceXdWUNk53LkJGCFI46880l5/1v8A8AP6/L/gkkGu3moaxcW2mafHLaWc4guLmW42ENtDHYoU7sBh1IrO0vx9aaprNvaRJb+TdTSQwsl0GmDJnl48fKp2nBye2cZrUTw1Hb6xLfWWoXlqs8iy3FtEyGKZwAMkMpIyAM7SM4pdN8OppV1us7+7W1Du62RKGJSxJODt3YyScbsULpcDZooooAKKKKACiiigAooooAKKKKACmTSpbwSTSnakalmPoAMmn02SNZYmjkUMjgqwPcGk720BWvqcwPFd+PDdxr0ukRx2ItvtNuDdZkkBxgMuzC5BzwTVm+8RzwTavDaWUc0mm2sdyfMnKCQMHJGQpwQE/HPamweD7eHSZ9KfUb+fTpbc26W0joVhQ9NpChuO2SaRPBsSQ6kBquoNPqUSRXFyxjLlVBHA2bRw2On60S290cbX1Ktx4t1O28If8JDJo0Ityscqwm7PmGNsc48vG7kcZ/EdKdqXjCfSWtLa/tbG2vbpZJVjnv8Ay41jXHVyn3iWA2gH61buvCi3fheLQ5NWvxBGFUyqIfMdVxtU/u8YGB0APHWp73w8LxrSb+0byG9tUaNbyPy/MdWxuDAoUOcA/d7cVUt3bYS2VzCk+IUklu9xp2km4gi01NRld7jZtQlwygbTlhsOOx9RVldW12Xx+LWG3tWsGsVlCtdsDtMmN+PLPzY425x71pT+F7W5jvRcXNzI19YrYzOWXJQbvmHy43fOfbpxUk/h+OTVbXUILy6tZreEQN5RTE0YIO1gynuOoweTQviv/XX/AIAPa39dP+Cax+6a4bwh4ov20/SbXUbRnF6k4t7qS43PK8ZJIYEcAgHByenQV3PWuatfA1hBB5M13eXUSQSwQJK6gQLJ9/btUckcZOTU6j0E0vxAniK/vtFvEhjkhhSVn0/UDINpYjG9QrKwK9PfrUfhrULqH4e212XW5mQuC97dFQQJWGWkIY8DvzVqw8IRadJLPb6pffaZLVLUTt5RKIpyNq7NoPJHT9aig8EwQ6CulNqt/LDFMs8Dv5W6JwxbjCAHk9GBp9P67/5C/r8P8ynb+O5b2G0Wx06G5uri+lsdsd2DEGRC+4SBeVx3xn2qxbeMLjUY7KHTNMWXULlJZJIZbjZHCIn8tsuFJPzcDC8+1W7DwhZWFzDcJcXUssV3JebpXB3SPHsbPHTHOB39uKZ/whlpEtu1jfXtnc25m2XMLJvKyuXZSGUqRk8ccYo7f10/zD+v6+RT1zx1Hol41pNDa+fb2q3VzHLeCMgHPyx5H7xvlPHHbnmtDxVflPAOp3toxBaxd426Ebl4P60+58NLNeJdwane2tz5KwTSxGMmdVyRuDIRnk8gA81P4i059U8Lajp8RzJcWrxoT3YqcfrSl8LuVH4kZmma2tnraeG0tEhitLVBHJJNtaUBAfkQj5l7Eg8EdKh0zxldXVjpmoajpK2dhqTLHFILnzHRmB27l2jAOOCCTyMgVZtvDgurmz1i/mvRcRxiUWUkoaOGUx7CRxnoSMA474rN8H+EFj0DRJtSnv2NrEsqWFw2I4ZcHJ243ZGTgEkDsKp3u7/1uQvhLUfjG8kj0y8/shRp2qXKwwT/AGn51VskOybeAQOACevOKnsvFNzd276mdMEeiBJJFuzcDzCiAncY8cA445z04psXgWyiuLMrf6gbaxuBcWtmZV8qJhngDbkjk8EnHbFWbXwla2krLHeXhsG3405pAYBvB3DGN2OTwTgdhS6aFaX/AK8/+AYulfEq31KRo1toZJJLSS6t4bO8S4kYIM7HVfuOQenI6810fhzWv7e0dL0xwxsWKskM/mhSO2cDB9QQCKqWnhGK0jeMarqkkfkGCFGudogU/wB0qASRgYLZIq7omhw6JDcCO4nuZbmXzpp7ggu7YC87QB0UDgU9P6/rsTqYtx4yu0tP7RttIWbTDeLaLMbnbISZREX2bfu5z3yfSmXfjp7G11S8u9Piis7K8NlFI10AZpdygZyoCr83JJ4weKs3HgWxnkKi/v4rQ3S3Ys45VESyhw+QNucFhnGcc9KuyeF7GXT7y0d5tt1dm83hwGilJBBUgcYIGOtSttf62/4JWn9fP/gEHhfxXB4ka8hQW4uLNlEn2W5W4iYMMgq4Az0IIIBGKrTeL7mHU7uNtLX7DZ38VjJcfaPnLSBMME28gGQA8j8a2dJ0j+ylm3313fSzMGeW6kBPAwAAoCgfQCq83hiznjvEeScC8vY72TDDh02YA46fux+tV9pdv+G/S4uhnz+MJ4lub6PSzJo1rO0E1354D5VtrMseOVBzzkHg4FT+FNR1LULnWxqSx+Vb6i8VuySbjtAHBG0YxkevU+lLN4Nsp7mUm6vEs55vPmsFkAgkfOSSMbsE8kAgH0rU07S4dMa7MDO32u4a4feRwzAAgcdOKUfPt/l/wQfl3/zOfuPGV2lp/aNtpCzaYbxbRZjc7ZCTKIi+zb93Oe+T6Vi28qQa/BNKdqR+Ir1mPoBbsTXQXHgWxnkKi/v4rQ3S3Ys45VESyhw+QNucFhnGcc9KuL4VsVu1nLzMVvJbzaxBUvIhRgePu4NJXt5/8N/kxu239bP/ADRmjxjf/Zba7fQ9lrqAIsGNyC0jlSyK67fk3AcEFsd6YvxG0sypuR1ibTzeNIeivjPk/wC/gE49q0LHwhaWN1bSfa7y4gsmLWlpNIDFbnBA28AnAJA3E47U1vA+htC8RtfkfUBqJGf+Wuf5e3vT/r+vz+Qv6/r8vmzG1H4lx6ZMYbu0tYZ7e2jnvIZr9I3QsN2yNSP3jAfQds03xP4nuNU8L6+ukaYbnT4LR45rozBG3NFu+VMfMAGGcke2a6DUfC0F/qEt3FfX1i9wqpcLaSBROF6ZyCQccZUg471DqXgu01BL6Jb++tLfUE23UFvIu2U7du4llJBwBnBGcc5pPVMa0aIPDo+z+LdUgX7k1lZ3JH+0VdCfyRfyrqqwdI024g8UateTRskJit7W3LEEuiKSW493I/Ct6qepCVlb+tgooopFBRRRQAUUUUAFFFFABQOtFA60AdnRRRSGZmvf8eCf9dR/I1z9dXe2a3sIjdioDbsj/PvVH+wIf+e0n5CmIwqK3f7Ah/57SfkKP7Ah/wCe0n5CgDCord/sCH/ntJ+Qo/sCH/ntJ+QoAwqK3f7Ah/57SfkKP7Ah/wCe0n5CgDCord/sCH/ntJ+Qo/sCH/ntJ+QoAwqK3f7Ah/57SfkKP7Ah/wCe0n5CgDCord/sCH/ntJ+Qo/sCH/ntJ+QoAwqK3f7Ah/57SfkKP7Ah/wCe0n5CgDCord/sCH/ntJ+Qo/sCH/ntJ+QoAwqK3f7Ah/57SfkKP7Ah/wCe0n5CgDCord/sCH/ntJ+Qo/sCH/ntJ+QoAwqK3f7Ah/57SfkKP7Ah/wCe0n5CgDCord/sCH/ntJ+Qo/sCH/ntJ+QoAwqK3f7Ah/57SfkKP7Ah/wCe0n5CgDCord/sCH/ntJ+Qo/sCH/ntJ+QoAwqK3f7Ah/57SfkKP7Ah/wCe0n5CgDCord/sCH/ntJ+Qo/sCH/ntJ+QoAwqK3f7Ah/57SfkKP7Ah/wCe0n5CgDCord/sCH/ntJ+Qo/sCH/ntJ+QoAwqK3f7Ah/57SfkKP7Ah/wCe0n5CgDCord/sCH/ntJ+Qo/sCH/ntJ+QoAwqK3f7Ah/57SfkKP7Ah/wCe0n5CgDCord/sCH/ntJ+Qo/sCH/ntJ+QoAwqK3f7Ah/57SfkKP7Ah/wCe0n5CgDCord/sCH/ntJ+Qo/sCH/ntJ+QoAwqK3f7Ah/57SfkKP7Ah/wCe0n5CgDCord/sCH/ntJ+Qo/sCH/ntJ+QoAwqK3f7Ah/57SfkKP7Ah/wCe0n5CgDCord/sCH/ntJ+Qo/sCH/ntJ+QoAwqK3f7Ah/57SfkKP7Ah/wCe0n5CgDCord/sCH/ntJ+Qo/sCH/ntJ+QoAwqK3f7Ah/57SfkKP7Ah/wCe0n5CgDCord/sCH/ntJ+Qo/sCH/ntJ+QoAwqK3f7Ah/57SfkKP7Ah/wCe0n5CgDCoHWt3+wIf+e0n5Cl/sCH/AJ7SfkKANWiiikMKparqEunWyyQaddag7Nt8q1MYYcZyS7KMcetXawPFPhybxEtkIryKFLaUvJBcW/nQzgqRhk3LnGcjORnsaTv0GiuvjuwuLLT5dNsr6/udQjeWKzgRBKqodrltzBVw3HLcnpmrF94rS1vIbG30rUL6/ktxcyWtuse+CMnGXLOFHIIwCScHGaxdN+Ht1oNrpZ0PWY4b3T4Z7bzZ7PfHLFJJ5mDGHXBBxggj6dq0rvw1qv8Aba6xpWsQ2t9JaJa3fnWZljmCEkMqh1KsCzdyOelV1/rzt+gv6/r8R1744sLHUJYJLW8eC2mjt7q8RFMNtJJjar/Nu/iXJUEDIyRU0fjHT5I7VxDcYutRm05MqvEkXmbiefu/umx35HFZ154Fmu76+X+1QulaldRXd5afZ8u8iBOFk3fKreWuRtJ64IqKPwDcprFtN/bI+wWmpT6hDai2+bdKHDBn3cgGQkcDHfPUTrb+vL/gh/X5/wDAJ9J+IdpraQmw0jU2N1aNd2aukSfaVUqHC5fAILD72AexNL4M8WXWseDxq2vWM1gscTSyXEpjEbqGbJUK7EYA5yB+NTaN4O/sh/D7C983+xtPksseVt87f5fzdeMeX0561Wg8C3H/AAis/h271p/7P8wNbta26pNGokL7XZy6uOg+6Mim/L+tf8gXmX/BviiTxXpt3dTae2ntb3bW4ieTcxAVWDHgYJDDjt610Ncr4K8N6j4em1ttS1O4vReX7TRecIvu7VG87EXDHGCOnAwBzXVU9LL0X5B1fqwooopAFFFFABRRRQAUUUUAFFFFABRRRQAUUUUAFFFQX0M9xp9xDZ3H2a4kiZYpim7y2IwGxkZwecZpPYa3MWw8a6ZqGrazYwJc/wDEnVWnm8rckgJYHZtyWwUYHjqOM1Pb+LtFubG9u/tbQRWGPtQuoXgeHIyMo4Dc9uOe1cTpXg/xdpOqavbWOpWEanSLe3trpLF4g8itKepkfDfMSxwc7wcDHNiP4e6xNba61xdW8VxfvZz26tcy3QSS3bdtd3AJUkDpjqeOOX/X4i6/12OtHi7RxpL6jLNPBbrKIR59pLE7ueiqjKGYnPGAc0k/jHRrawt7ueW5Rbkt5URspvObb94+Vs3gDuSMCs3VNJ8R6za6feTw6Zbalpd+LqCBbh5IZl2MhDOUBU4ckEKcYHWkvdJ8Szatp+vW8OljUIbaa0mtHuZDEEdlYMsnl5JGwZG0Zz1FH9fh/np5B/X9fL7zX/4SzRDbXFwt+rw29kt/I6KzAQNuw4IHP3G4HPFQP448Px6odPa+P2gSxwsBBIVR5ApQM23au7cMZIyeOtcjc/DrXLPRbjTdEu7GRb3RV02ea5ZkMbBpGLKoU5B80jBIxx16VqTeCL57XV0WS1El9qNjdI25uEgEO4Hjr+7bH1HSnpfy/wCD/lqJ3/r0X63NGw8b29740v8AQfsl6v2ZItkpsJwGZi+dxKYVflGGJwexqfxdqN3ZR6RbafKYZr/VILcuACQmS79fVUI/GkXStUtPHV1qlotpLY39vBFP5krJJEYy/KgKQ2Q/cjGKreOf3L+Hb1v9Va6zD5h/uiRXiB/OQUl9n1X5jf2vR/kaFt4v0S71ZtOtrwyTKXUuIX8osgyyiXGwkYOQDkYqG38d+Hrq8t7aK9k8y63m3LW0qrOFUszIxXDKADyCR+dZmleGNcstHbwzM9g2ieVNCt2juLko4bAKY2hhu5bcc46DNU4vCvim4udBj1GTSVtdFSSMPAz75wYGiVsFcJ1GVBP14xSd7O39b/8AAHpc2YvGVjr+mXC+FJmub+SzaezWWB4llHQOpdQGUEjOM4p+heJDdeJtR8N3KzSXOl28DSXTQMqzMy/Mc7Qo57A8846VW0Pwpe6XceGXmktyuk6RJYzhGPzO3lYK8cj92euOorU07R57TxZrWpyPGYb9LdYlUncPLVgc8e/FU7J6f1q7E6tf15HO2vjTT9H8XeJ7XW9RlVIryHy1KSSJbxm3jOSQCI1LE8nAzmt/UPGegaXqIsr3UFSbCMxWN3SIN90u4BVAe24jNYV54a8RjVPE/wBgGlvZ68UAknkcSQAQrGxKhCH6HC5H15rIv/hZdi6u4dPlS5sb6KGOb7TqN1D5YSNYzmKJgsoKqDgleSeSKS2V/L+v+CNnY6t420DRJblNRvHT7Ige4dLeSRIQRkB3VSqkjoCQTkVHdeLrDS7+/bVL+FLOBLbYqQSGRWmLKu7AIO4gYwOO9cD4oa703QvHGnaTdaebSYsZ1uy4uIpHhRQiJgiQNgbTkYJPXFdRf+DdQv8AUJrpJLdY5n0xwrscgW0hdweOpB4/pQtbfL8d/uB6fj+Fjq9J1qx1u3km06R3EUhikSSJonjcAHayOAwOCDyO9Vv+Ep0byhI16qg339n/ADqVP2jONmCM5/Qjmm6LpE+m6xrt1M8bR6jeLPEEJyqiGNDnjrlD0zXPa/8ADdNb8SXt+bvyra4tiyQAf6u9A2rcD3CgD8KO39f11XrYP6/r+trmzdeKrQavDa2d5EfLuZbe5jaCRmZ0hMhRCBjIGCevp1rkrH4kW15q2g6veyXdnZ3mlXLvaiCZsyLJFyEC5bALfNjGM81uaf4MubCHw0BcRzS6dNNcX8zkhp5ZYnDsOO7vnnHFM0DwbfaXJojXMls/9n6RNYybGJy7ujAjI6YU0tU/67P9Q3X9d/8AI6+3vLe7sY723mSS2ljEqSg/KyEZBz6YrGs/G+gX+oWtlbXkhmvSwtd1tKiz7VLEoxUKy4HUHH50mkeHJLb4d23hy/lXzF08WcskJJAOzaSpIFYth4a8TnVfDZ1R9KFnoRdd1uz+ZcAwtGrYK4TqMrk/XjFVpzNdP6/4AvsnSax4m0vQbm2t9SmlWe6V2giht5JmkCY3YCKTxkU+38R6VdvbLbXayG6tGvISqsQ8IIBbOPVhx1qC/wBGnuvGGk6sjRiGyt7mJ1YncTJ5eMcf7BzzXMW/g3X9J0/SG0t9PmvbSwnsJ0uJHWPbI4YOrBSSRt6EDOeoqdbf152/GxWl/wCvL/gm5cfELwzarA0+oMEntEvVcW0pVYHOBIxC4Rcjq2Md6yvFHjTT5vD8V5puoywJa6pZLcsySQssbyr1DAEqy556EetQzfD68XR76wtri3cS+G4tIieQkEyJvyxABwp3D1NP8QeCtW1C9vLnTprFWkbTniWcsVzbSM7bgB3BAH9Kp2Ulbuvz/wAidbfL9F+rf3HQ23jLQbrT729W+EUNgAbn7RE8LxA9CUcBsHtxz2qH/hPPDv8AZk1+186RQyxwyK9tKsivIQEBjK7/AJieDjmsPV/A2p+J49WutWltbK8u4beGCK0mkZFEMplBaTCMSzHHAGB0OarWnw/1I+Zc3ItYrqS8spCDqF1dkxQS7yDJMTzycAKMeppLf7vzG9jodA1m4vfFutWcskj2whtry0WWIxtGkispUqQCPmjJ5Gea6auV0c/afiZ4juE5jt7W0tCf9seZIR+AkX866qjoHUKKKKACiiigAooooAKKKKACiiigAooooAKKKKACiiigAoqC7u47KESShiC235R/n0qn/b1r/wA85v8Avkf40AadFZn9vWv/ADzm/wC+R/jR/b1r/wA85v8Avkf40AadFZn9vWv/ADzm/wC+R/jR/b1r/wA85v8Avkf40AadFZn9vWv/ADzm/wC+R/jR/b1r/wA85v8Avkf40AadFZn9vWv/ADzm/wC+R/jR/b1r/wA85v8Avkf40AadFZn9vWv/ADzm/wC+R/jR/b1r/wA85v8Avkf40AadFZn9vWv/ADzm/wC+R/jR/b1r/wA85v8Avkf40AadFZn9vWv/ADzm/wC+R/jR/b1r/wA85v8Avkf40AadFZn9vWv/ADzm/wC+R/jR/b1r/wA85v8Avkf40AadFZn9vWv/ADzm/wC+R/jR/b1r/wA85v8Avkf40AadFZn9vWv/ADzm/wC+R/jR/b1r/wA85v8Avkf40AadFZn9vWv/ADzm/wC+R/jR/b1r/wA85v8Avkf40AadFZn9vWv/ADzm/wC+R/jR/b1r/wA85v8Avkf40AadFZn9vWv/ADzm/wC+R/jR/b1r/wA85v8Avkf40AadFZn9vWv/ADzm/wC+R/jR/b1r/wA85v8Avkf40AadFZn9vWv/ADzm/wC+R/jR/b1r/wA85v8Avkf40AadIyK4w6hhkHBGazf7etf+ec3/AHyP8aP7etf+ec3/AHyP8aANOisz+3rX/nnN/wB8j/Gj+3rX/nnN/wB8j/GgDTorM/t61/55zf8AfI/xo/t61/55zf8AfI/xoA06KzP7etf+ec3/AHyP8aP7etf+ec3/AHyP8aAJbjRNLu9Ri1C6020mvIf9VcSQK0ifRiMir1Zn9vWv/POb/vkf40f29a/885v++R/jQBp0Vmf29a/885v++R/jR/b1r/zzm/75H+NAGnRWZ/b1r/zzm/75H+NH9vWv/POb/vkf40AadFZn9vWv/POb/vkf40f29a/885v++R/jQBp0Vmf29a/885v++R/jR/b1r/zzm/75H+NAGnRWZ/b1r/zzm/75H+NH9vWv/POb/vkf40AadFZn9vWv/POb/vkf40f29a/885v++R/jQBpBFVmKqAWOWIHU0tZn9vWv/POb/vkf40f29a/885v++R/jQBp0Vmf29a/885v++R/jR/b1r/zzm/75H+NAGnRWZ/b1r/zzm/75H+NH9vWv/POb/vkf40AadFZn9vWv/POb/vkf40f29a/885v++R/jQBp0Vmf29a/885v++R/jR/b1r/zzm/75H+NAGnRWZ/b1r/zzm/75H+NH9vWv/POb/vkf40AadFZn9vWv/POb/vkf40f29a/885v++R/jQBp0Vmf29a/885v++R/jR/b1r/zzm/75H+NAGnRRRQBma9/x4J/11H8jXP10Gvf8eCf9dR/I1zxIHUgUxFLWNZsNA017/VrgW9tGQGfaW5PTAAJNQ6j4j0zSpIkv5pIhKARJ5DsignALOBtXn1IrmPiPp2sX2n3U9nbWt3ZW9hMFje4ZJFlYEFwoRgxC8AZH3jU+u/25qEGn6dPoU09g8ayXxsp4m3kHiIGRkO3gEnHtQtQen9eh2lFIvKjjbx0PaloAKKKKACiiigAooooAKKKKACiiigAooooAKKKKACiiigAooooAKKKhvJJobGeS1h8+dI2aOIMBvYDhcngZND0Qbkf9p2Hm3MX2238y0UNcJ5ozCCMgsM/KMetLY6jZanb+fpt3Bdw52+ZBIHXPpkV554ZnudL8Q602paFqLTtp0M92NsUrSybpScKjsTuJwoGeF5xXR+Cf366jqE1vc215fTLNNDLZywLF8oVVXeq7iAvJHf8ACmv6+8H/AF9xrDVi/ih9ISHKxWguZZd33SzlVXHvtY/hWluGM5GK4PX4L2fxFr8NgsjyyWdi7RxNtkkhEsnmKp9SuR+NRXNlYm2tW0rw9fxaPHeBtQs/sboZh5bAMIjy4DbcgDnrziktv67g9/67HoO4eorP1HVfsNzZQpCZjcyMGIbAjRVLM5+mAMeprgIdDN59rii0W8t9Pm1+2lSCWFlzCI1DNt7JkHjt0OOldToemG303XtPezMdn9rlW2gaPCGJo1OFHTbuLdOOtJ35W/66f5/gPql/XX/I2otSivNDXUrFt8UkHnRFgRkbcjIpmg6hJqvh7T76cIstzbRzOqdAWUE49uay/DGm/wBnfDmxsks/s0osAHgEe1hIU+bK+uf1rk/D2jyxWPh8aNpV9p2rww41C4uYHQFfKI2szDD/AD7cAZxjtiqekpL0/US1Sfr+h6eCD0NIXAUkfMQOg6mvKNA0fW7aVGi82zv47KYXczadJCskpQ4MkzylZPnwQyg/gKsWEdkPEHhcWejXdjdBZlupZoSnmv5DZyx/1pzk7hn680nt/XmB6VaXX2qziuGiktzIobypgA6exAJ5qbOOtea6f4Ze9t9NXVdLlkEHhzyws0Jwk24cYPRx27iutt9MfWfANtp+qiRJriwjSUuCHSTYOTnkMG5+opvZv+t3/l+IdUv66f5m7kZIzyOTWdc63b2UkovI5oY0mihWVl+WVpCAu3HuQDnFcEuk+Lb8rNfB421g/wBnX0Ybi3hj/wCWo92Al/7+L6Vc1vw8bu61OBtLae1Oo6aYkMBZTGuwORx0AyD6DNLt/XUDrdD1WXU21ITrGv2W+kt02Z5VQME+/NapOOtedp4ceC9n1OHTplvh4iVo5RG24W5Khsf7GM57V0HjG3lmXTHktJr7TYrrdfW0MZkZ02MFJQcuAxBK8/Tij7Kfp+S/zB/E16/mzpAQehzRkZxkZrk/A9r9nu9eeHTbnT7Sa9V7aK4jKZTykGVU9BkHjt04rKu9Bl+3avqcWnym/wD7ctnt5hES4i/chyp/u435xxwc9KOqX9dP8w6HoORRuX1H51wNra3v9qWemNYXavba5PeyTtCwh8lvMKkSfdJO8DAOao6P4PhZ9E+26Q+JI703okiOHbfmPzM9ep25/ClfS/8AW39IfW39bv8Ar5nb/wBqyjxedLKx+R9h+07v4t3mbcemMVqkgdTivMLbTRJeaJL4o0bULyBNDWKT/RZJQsofo6gE7seo468VWvNF1r7Ppf8AalvLPYx20qxQTWMt60LGUlAyo6kMI9oDHOMHpT2X3/mw6v5fkj1aVykTFAGcKSqk4yewqloOqjW9Bs9REflG4iDtHnOxu6/gciuU0PQJn1/Sptct5rprTR1Cz3UONsolyM8sA4GO5NbHgPnwbaMPuvJM6f7plcj9CKdv6+bX4i/r8LnR0UUUgCiiigAooooAKKKKACiiigAooooAKKKKACiiigAooooAKB1ooHWgDs6KKKQzM17/AI8E/wCuo/ka5HUNF0vVmRtU060vDGCENxCr7c9cZHFdjrUUk1mixIznzAcKM9jWH9huv+feX/vg0xGfY6dZaZbmDTbOC0hLbjHBGEXPrgVZqf7Ddf8APvL/AN8Gj7Ddf8+8v/fBoAgoqf7Ddf8APvL/AN8Gj7Ddf8+8v/fBoAgoqf7Ddf8APvL/AN8Gj7Ddf8+8v/fBoAgoqf7Ddf8APvL/AN8Gj7Ddf8+8v/fBoAgoqf7Ddf8APvL/AN8Gj7Ddf8+8v/fBoAgoqf7Ddf8APvL/AN8Gj7Ddf8+8v/fBoAgoqf7Ddf8APvL/AN8Gj7Ddf8+8v/fBoAgoqf7Ddf8APvL/AN8Gj7Ddf8+8v/fBoAgoqf7Ddf8APvL/AN8Gj7Ddf8+8v/fBoAgoqf7Ddf8APvL/AN8Gj7Ddf8+8v/fBoAgoqf7Ddf8APvL/AN8Gj7Ddf8+8v/fBoAgoqf7Ddf8APvL/AN8Gj7Ddf8+8v/fBoArCNBI0gRQ7AAtjkgdBn8TTqn+w3X/PvL/3waPsN1/z7y/98GgDOOnWx1YalsIuhCYN4Y8oW3YI78irVT/Ybr/n3l/74NH2G6/595f++DQBBRU/2G6/595f++DR9huv+feX/vg0AQUVP9huv+feX/vg0fYbr/n3l/74NAFWaKO4geGZQ8cilXU9CCMEViaZ4TtdMvYLg3l5d/ZUMdpHcyBlt1PBC4AJ4GMtk4710v2G6/595f8Avg0fYbr/AJ95f++DQBBRU/2G6/595f8Avg0fYbr/AJ95f++DQBBRU/2G6/595f8Avg0fYbr/AJ95f++DQBBRU/2G6/595f8Avg0fYbr/AJ95f++DQBBRU/2G6/595f8Avg0fYbr/AJ95f++DQBBRU/2G6/595f8Avg0fYbr/AJ95f++DQBBRU/2G6/595f8Avg0fYbr/AJ95f++DQBWkQSxNG2drAqcHBwahsLGDTdPgsrNNkFvGI41znCgYFX/sN1/z7y/98Gj7Ddf8+8v/AHwaAIKKn+w3X/PvL/3waPsN1/z7y/8AfBoAgoqf7Ddf8+8v/fBo+w3X/PvL/wB8GgCCip/sN1/z7y/98Gj7Ddf8+8v/AHwaAIKKn+w3X/PvL/3waPsN1/z7y/8AfBoAgoqf7Ddf8+8v/fBo+w3X/PvL/wB8GgCCip/sN1/z7y/98Gj7Ddf8+8v/AHwaAIKKn+w3X/PvL/3waPsN1/z7y/8AfBoAgoqf7Ddf8+8v/fBo+w3X/PvL/wB8GgCCip/sN1/z7y/98Gj7Ddf8+8v/AHwaAIKB1qf7Ddf8+8v/AHwaPsN1/wA+8v8A3waAOsooopDCs/VfEGj6Esba3qtlpwlz5Zu7hYt+OuNxGeorQrl/iWufhprvGT9kbHFJjWrsaX/CVeH/AOz47/8AtzTvscrmOO4+1J5bsOqhs4J9qbqHi/w3pN19m1TX9Ms59obyri8jjbB5BwTnBrldcvNN0r4gfafE3lpp8uh+TaPMmUMnmEyoP9tl2cdTiqllZXVn4b+G1vqMbpcR3qB0kHzIPs02FPuBgfhTWv3/AKtfpcm/5X/BP/gHoS6tp73FtbpfWzTXcZlt4xKu6ZByWUZ+YcjketTQXVvctKtvPHKYXMcoRgdjgA7TjocEce9eSeJNQuf+E8uPE0Wl3ctroV/bWgvUaPyo4gCLgEFw/wDy37KR8g9K6jwhrukweI/EemT6nZx382syNFavOolcGKPkJnJ6H8qI+993+VvwY3p/Xrf8UduWCqWYgADJJ7VnW3iPRLyCSa01exniikWKR47lGVHY4VSQeCScAU/Xbe0vPD+oW2pSmG0mtpEnkVtpRCpDHPbAry+41ia68NX+l29za6zp2kvYXCarYR4UxrcKWRwuVLoqbiV4x2FC3t6A9rnqc2r6bbXa2txf2sVwzogieZQxZ87RjOcna2B3waltb61vfN+x3MVx5Mhil8pw2xx1U46EeleReILceMPG7y6DdRSxTTwCzvVbdEbiG3uHBDDqFZkzj3Fdf8ONNfRo9d02ZxJNBqCtNIOjyNbws7fixJoWt7/1t/X3A/I7WiiigAooooAKKKKACiiigAooooAKKKKACiiigAo6UVHPBFdW8kFzEksMqlHjdQysp4IIPUUAPDKejA/jRuXGcjHrmvHLjSNM0PQPG17pOnWthNDq6232m2gWOSC2YQCQKwGVG1mPH1resNB0OTxjrWj2VhZ3OhjTbeeW0MayQJc7pMMFOQGKAEnqeDSv7t/K/wCF/wCvMOr/AK62/ryPRQynOCDjrzS5rxqG00nT/gv4d06CwEDeIRbw3hsLRnlmjA3yMVjUsx2qRnB+9Wl4b1Q6hH4DWZpPOsrm7spvNRkfdFC6AsrAEEgA4IzzV21a7f1/kK+if9f1oz1Oo2uIUuEgeVFmkUskZYBmAxkgd8ZH51IDnpXlPiaNPD/xXs9d1CC21a3nyEDEefZnMCAIDwRk7gBg/M3WpWskh9Gz1bI9aTcDjBHPSvJ5p1TweYA4+0L4uf8Ad5+bi7Zzx/u8/Ss7wZouq6bqng241A/8S+NvL04787xPbSSyEjthgFGewoh7yv6fik/1CWn4/g2v0PX7zVLSwu7K2uZNs19KYYFCk7mClj06DCnmrdcj4hk2fETw8zukaw2N/MrSHCqwEQyfYBm/DNckPGetRaFBbXmvLBqQ1a0hurtooXiWGZTzGy/KVOCQSAw4z7i1/rzsHn/Wiuet0V5brfjHW9G/tHS7C+k1UxXdpCuohIfMhE27cpzsiLDaMZwP3gznutt4t8Q/Zv7OvLr7IZNVSyGp3RtnlgRoi/zrEzRh9w2jOAdw4oWu39bf5g9N/wCt/wDI9Mku7eK5it5Z40nm3GKJnAaTHJwO+KkZtqlj0AzXDyahe6fruiW/9qLrZ2XxeXyYhI5RFKoSowCM4O3Ge4rIs/EuqS/8IjdnxKlwddnP2qwEMW1F8l3KJhdwCsADuJOR26Untp/Vw8/60PQtF1aDXdEtNUs1kWC7iEqLIAGAPrgml1rVYND0S81S7WRoLSJpZFjALEAdskVzXg+8l074Nade28BuJbfS/NSEdZGVCQv44rB1i4vbz4YaxeXXiiLU2vdFknFqsUarExA5Tb820Zx8xJ9xTlo2l0/4P+QR1tfr/wAD/M9PVg6Bh0YZFLXmd/4h17w7Lf6bcasLr5LB0vpoEX7Gs8rRu2FABVduRu9eSag1jxHrel3HiaxsPEv29rGwtJbeZ4YS8MkkzK27aoU8Y4x0x9ae70EttfL8T1OiuCudQ1KLX73SLjxPJYJpmnpdLcTRQ7rsuXyzZTGxdoGFAPPWszQvEuteIrTSre58QppDHRYb+S7EMW67dywYgONoRdoyAM/MORS/r8/8mP8Ar8v8z08OpYqGBZeozyKWvI9Z1XVdA17xRqmm38t1JMNNgG1IfLQSfKZRuwOBnG59vzc1NH4k8USqNNa+ntmOr2tst3MLR7gRyKxdWSJnQEbQQcDr04oWrt8vy/zDZX+f4Hq1Z13rdrZaza6bcblkuoJp1k4CKse3duOePvj9a5e31vULH4jR6Zf6sbqxmAtrdYhC371Yt7edtAdHOC3A24I4FT+KHaPx1pDpjculaiRkZ5Ah7Gpk7Lm9fyY0ru3ob9pr9lfay+nWjGV1tI7wTIQY3jkZgu0g8/cP6Vp14vB4g1KDxVobCcWMGpaFpwvdTWJCLfLSkKFxtXe3y5Iwv5Vox+NPE03iOSVFmW3j1n7B9lka0SDyhJszlpBN5hHzDjB4ABHNacvvcvm19zt/kTfS/p+V/wDM9UnnitoHmuJEiijUs7uwCqB1JJ6U8EEAg5B6EVxPxY0uXU/A1z5M0AFsrzPb3GfLuAI3G047jO4dRlRxWr4Y1aG78FR3mn6cLVbdJI1s4yCoaMspVSOCCV4I7VF7Jt9CrapdzoaK8y0/xLqksvg67PiZLg67cf6VYCGLai+S7lUwu4BWAB3EnI7dKp/8JN4nh8J6JdHUbu7uNbvXheSKG2U2yJ5hCx79qbm2gZcnocDtTd1+Qt/z/P8AyPWaK5nwJq2patolw2sYaa3u5IEkLws8iDGC4iZkV+cEA9s4Ga53R9e19bjSr681R7yHUNXvLFrMwRqqxx+cUKkKG3DygOTg56d6HoHS/wDX9aHpFIrq67kYMvqDmvNdO8TaxLaaHq8muR3L6xdrby6QkMY+zhiQQhxv3R4y24kcHgVrfDdLiw+GqSvcT38ivcyIsiqDxK/yjao6kZ5zyaHom30DrY7WsHSPF9hrVzYw2sVwrXttLcxmRQAFjkEbA4PXLDHtXH6f4l1SWXwddnxKlwdduP8ASrAQxbUXyXcomF3AKwAO4k5HbpWNpWqXGiaXpupWcImntdA1GSNCCRkXScnHYdT9KNnr5/gmw3Wnl+Lsez0V5tean4ktbiKw0bxGmt3N5YSXsbCCIeU0ZRgBtGPLkyU5yRnINUU+IeuavcMulwtBBr5WDQ5WiyYmQgTu4IxwCzDPXZT3dg6XPV6oazq9voenfbLtZGj86KHEYBOZJFQdSOMsK82uvGXidfEN81v5whsdTSxW3kazjglTKgl2eQSh2BLDaMdODUWu6lqmreG/7UvdbjhjfXobX+yTCgEYS8VQu7G/zMKGPOMHp3pLW3nb9P8AMHpfy/4P+R6lpmqWmsWZubCQyRCWSIkqVIZGKsCDzwQat1yvgf5JvEsS/wCrTXJ9ntlUY/8AjzGuqo6J90n96uHVrzf5hRRRQAUUUUAFHXrRRQAEA9RmiiigAwPSop4TNBIkcjQO6kLLGFLISOoyCMj3BFS0UAY1lod/a3iTXHibVL2Nc7oJ47YI/HfZCrfkRWwFAGAAB9KWigBAAOgApaKKACiiigAooooAKKKKACiiigAooooAKKKKACiiigAooooArrYWiLcKlrCq3TFpwIxiUkAEt6nAA59KZp+k6dpNqbbS7C2s4GJYxW8SxqSepwBirdFAFWLS7CAWogsreMWalLfZEo8kEYIXj5QR6VVvfDGg6kjJqOi6fdK0pnZZ7VHBkIwX5H3sDGetalFAGDJpeuWrCDw/faPp+nRqFgtm0t38sAdMrMoxn0UU9PCmmSa1a65f2VnNrMERRruO2Cbydvzc5PG3jLHGTzW3RQBQOhaSdTfUTplmb512tc+QvmMMYwWxnGOKnFhZiO2QWsIS0INuvljEJClRt/u8EjjsasUUAZGq6GdR1zR9SjmEb6dJIXUrnzY3jKsvtztP4Vnax4Msri00+10jT7C0t4dSjvLmFYQiSqAwbgDBJz3rqKKAKEGhaTa6Y+nW2l2cVjJnfbJAqxtnrlQMGiLQdIg0ptMh0uzjsGzutVgURH/gOMVfooApWmi6XYJbrY6daWy227yBFCqiLd97bgcZ7461FF4c0SC+a9h0exjumk8xp1tkDl8Ebt2M5wTz7mtKigCK2toLO2jt7SGOCCNdqRRqFVR6ADpVGPw3ocLXRh0ewQ3gK3JW2QecD1D8fN+NadFAFaTTbKZpmms4HaeIQylowfMQZwp9QMnj3NVbfw1oVpbvBa6NYQwyKEeOO2RVZQdwBAHIBOfrWnRQBSv9F0vVZIZNT061vHgO6Jp4Vcxn1GRxUVz4c0S8s7e0u9IsZ7a2x5EMlsjJF/ugjA/CtKigCq2mWDicNZW5FygSYGJf3qgYAbjkAHGDUNroGkWNtHbWWl2dvBFKJo4ordVVJB0cADg+9aFFAFMaRpo1U6mLC2F+V2G68lfNK+m7GcVNLZWs86TT28UkqI0au6AlVbG4A+hwMjvipqKAKLaJpTQPC2m2hieBbZkMC7WiXO2MjH3Rk4HTmmjQNIGppqI0qyF7GoVLn7OvmKAMYDYyBitCigDO13QNM8SaVJp+s2cN1byAjbKgbaSMblyODz1q7b28NpbR29rEkUMahUjRQFUDsAKkooAzYvDmiQXxvYNIsY7ppPNM6WyBy+CN27Gc4J59zUsmjaZNpn9mzadayWP/AD7NCpj65+7jHXmrtFHkHmQWdla6daJa2FtFbW8YwkUKBFUewHApiaZYRrEI7K3UQytNEBEo8uRs7mHHBO5sn3PrVqigCjDomlW+pyajb6baRX0oxJcpAokf6sBk1ZtrWCzt1gtIY4IlJIjjUKoycnge5JqWigDNi8OaJBfG9g0ixjumk80zpbIHL4I3bsZzgnn3NTwaVp9s0Zt7G3iMSNGhSJRsVjllGBwCRkjuat0UAUdP0TS9IaVtK020sjMcym3gWPefU4HNTpZWsYiEdvEvkkmLagGwnOcemcmp6KAKMuh6VPqkepT6ZZyX8Ywl08CmRfo2Mio5vDmiXN+b640ixlu2KkzvbIXJBBHzEZ4IB/CtKigDJ8OaI2h2NzFLOJ5rm8mupZAu3JkcsBj2GB+Fa1FFABRRRQAUUUUAZuusVsUKkg+YOh9jWB5r/wB9vzre17/jwT/rqP5GvNfFxvP7e8NLppiFw13KFaYFlUeQ+SQCCfpkUCOs82T++350ec+ceY2f96vPx441KeO0toYI0vGgmkmdLOa4RjHKYwqqnK7iCck8e9WtVEV/ceENXuNPW1v5r2MP5keJYwYZCUJIzgHtTWv9fIHpf+vM7bznzjzGz6bqPNk/vt+dcpfWdtD8TNHuYbeKOee0uvNlVAGkx5WMnqcVBbeKtRlurK7aO1/sy91GSwSEK3nIVLqHLZwclD8uOAetC1t/XWwd/wCulzsvNk/vt+dHmyf32/Om0UAO82T++350ebJ/fb86bRQA7zZP77fnR5sn99vzptFADvNk/vt+dHmyf32/Om0UAO82T++350ebJ/fb86bRQA7zZP77fnR5sn99vzptFADvNk/vt+dHmyf32/Om0UAO82T++350ebJ/fb86bRQA7zZP77fnR5sn99vzptFADvNk/vt+dHmyf32/Om0UAO85/wDno3/fVHmyf32/OuM8UaTHpHgXxRJbs0jXhkumB4wxCjA9vlqG68W6po8Gow6jDbzXVubUQm3ifaPPYqAy5LNtIPTr6Cl/wBncmZx1kYf8CoMzjrI3/fVcFqlzJr3gbxCmt6eshsoZGt55bJ4Vk/dEh1STlSCSM5P1qx4ts7afwTYXM1vFJPBJZ+VKyAtHmWMHaeozTW/3fiS/8/wO182T++350ea//PRvzrk9d8Q6nb3+pQ6Utoq6VZLdz/aVYmbO47FwRt4Q/Mc8npWpBYw6lqWneIMuki2bIkZ9JNjc+42/rQtf69f8hvT+vT/M1Li9W0tpLi5uPKhiUu7u2AoHUk09Z2dQyyMVIyCG61zfjz5vCM8R+7PPBC/+68yKf0JqpL4m1G01XWLW8it7dbe2lmsI2jfMwRQd2/O1h6qMEfrSukm/60GlfRHYebJ/fb86PNk/vt+dcSnizVNOsdNv9bWzmg1G2eVY7NGDRMsRlxksd4IUjOBg461SsPH+pLbvd6lp7y2xsZLsGGxuIRCVUMELyDa+QfvDHTpTeja7f1+glqk+56H5rjrI3/fVHmyf32/OuL1e61mPwrc3Wtx6XdQuIWjhiR8KTIvDHd82M5yMcjpTNV8UazFpetappgsFttLmeAQ3CMXkK4DNuDALyeBg59RmgFqdfb6nFdXV1bwTs0to4SZeRtYqGA9+CDxVjzZP77fnXNeHDu8SeJie93Cf/JeOk0vVdY1m8kurb7DFpcd1JbmKRWMzBGKltwOByOFweO9AulzesNTi1OyS7sp2lgkztbkZwSDwfcGrHmyf32/OvOfCWs6lpWmaVHeJbPp1210saxq3moULvknODkKeMDHHJrRtvEmtu3h+6n/s82etTAeUiN5kKmNnA3bsMeBk4GPSgb0O182T++350ebJ/fb864bT/E+u3em6Y8h09LjV7h4rf9y+yBU3klvn+ckIMAbevWlXxVrK3lzpciWL3/8AaS2NvMoYRAGESl2GSc4z8oPoM96P6/L/ADB6f1/XY7jzZP77fnR5sn99vzrg9Wv9d0zxDpU+oXVqyQWl5NcR20ThZlQIeAX4bHTOcc9c1FpnjjV7iF5bmx3JJYS3UbrYXEKQMq7gjNIAHB9Vx06c0rq1/wCv60HZt2PQfNk/vt+dV77U4tNtftF7O0cW9E3cn5mYKo49yBXIXPiPX7DRdK1C8Fl5F0omu50t5CluhVSFIDE92+foMDIrS8bkN4WDKcg3doQR3/0iOqas7edib3VzduNUitbm2t57hllunMcK8ncwUsR7cA9asebJ/fb868s1vXxpElrqMdjHm3167jCRZCsfKdd7nnA5yx7AdK1dV8Y6xZagbC2ihnntbOO4nkisLiZJ3fOETy87BhfvMT16VN9L/wBbXKtrb+t7HfebJ/fb86PNc9JG/wC+qq2F0b3Tba6aF4GmiWQxSDDISM7SPUVBo2lRaLpos4HZ0EskmW65dy5/9CqmrOxO6uaPmyf32/OjzZP77fnXF6v4l1iO11+90r7CkGi7kMVyjFpnWMOTuDDaPmGBg5x2qG68X6raQ65fvFavZ6YIkSFInMkryRowywJwAz9lJIpdLjtrY7rzZP77fnR5sn99vzrlfC/iHUdT1C5s9StmxHEsqXK2M9shySCm2UZJGM5B5B7VX17xHrFhqerixFl9k0qxjvHE0bM8uS+VBDADhOuD9KHoC1Oy82T++350ebJ/fb864268TavKmq3+mR2S2OkkiWK43eZOVQO2GBwnDYGQc+1S+Fru+vfEuvzTXCvZtJA0EJjYNHuhRupYjoeQB15oWoHW+bJ/fb86z5PEVjHcvbveMJUuUtWXDcSOoZV6dwevSub1fxLrEdrr97pX2FINF3IYrlGLTOsYcncGG0fMMDBzjtWRNKZdanlfAL6/Ysce9uhoWrXy/FoHpf5/gj0vzZP77fnR5sn99vzriofFOrvY2utPHZf2Vd3SwJbgN56BpPLVy2cE5wSuBgd6rD4hyWl1bW+pwRo1rLJHq8iZC23O2Nhk9HOCPY0BY77zZP77fnQZnAJMjYHua86l8c62XggSzjhuHtPtrD7BcXHyOzCOPEedrbV5Y8ZPArTi8R61rU3laVa29kYbGK6uY79H3lpA2IwARtxtOWIP0pPRN/1/Wgdf6/rqdLp2uWmrRLJp96Jg0ay4DEEK2dpIPIzg9fSrvmyf32/OvOvAf7u+0MgYNx4dQyAHukgx/wChmvQ6pq34/g2v0F/X4XHebJ/fb86PNk/vt+dNopDHebJ/fb86BLJn77fnTaB1oA7OiiikMzNe/wCPBP8ArqP5GuWuLC2urq1uZ490to7PC24jaSpU/XgnrXU69/x4J/11H8jXP0xGNJ4U0iSKJBbyReS0jI8FxJG43tucb1YNgk5xnFF/4W0zU3tmuxdk2gHk+XfTR7CAQG+Vx82CRnrWzRQBj3HhbTbnVItRm+2G6hGI3F/OoUcZAUPjnaM8c96dB4Z0m21Q6hDalZy7Sj94xRXb7zKhO1WPOSBnmtaigAooooAKKKKACiiigAooooAKKKKACiiigAooooAKKKKACiiigAooooAr39jb6nYTWV7H5lvMuyRMkZH1HNVrnQdNvGumubUSG7RI5ssfmCElMc8EEk5GDWjRQBjS+FdMn0qTTpjevbSkmQNfzlnyMEFt+4jHbOKZc+EdKu9NhsLj7a9tCdyIdQn65BGTvycEDGenatyigDFufCej3jRNdW8srRxiIs1zITIgOdsh3fvBns2a2QAoAAwBwAKWigDJ8T6XNrHhu7srVlW4ZQ8JY8B1YMufxAqle+FbEWupXdlZj+0rq1mQfvWKh3X5toJ2rk4yQBnvXR0Umrpoadmmc74e8I6ZpVpaSmy23aWqxMHlZ1jyo3qqklVBPXbjNWbHwnounTPLa2fLRmICSR5FRD1VVYkKp9BgVs0VTd3clKysYcPg7RILeaBLVzFMFVke4kYKFYMFXLfKAQOBgUmo+DNC1W4nmvrIu1xjzlWZ0SQgYDMoIBYeuM1u0Uhla20+2s7i5nt49kl06vM24ncQoUdenAA4ql/wjOlf2v8A2ktsy3O/zDsmdUZ8Y3FAdpb3IzWtRQHkZ0Gg6bbJZJDbbVsXd7cb2OwuCG7853Hr61Tt/BmhWl9DdwWRWW3kMsH75ysTEEHYpOFByeAMVu0UAZUvhrSZtHi0t7X/AEWFt8SiRg0bZJ3K4O4Hk8g96hi8H6HDY3Foll+6uJRPITK5YyAAB9xOQ3A5BzW3RQBlWnhvS7JoGht2LQCQI0kryE+ZjfksTuztHXNQ2vg/RLMymCzI82FoCGmdgkbdVQEnYD6LituigNjIv/C2j6lBaw3loXS1j8qICV1+Tj5TgjcvA4OQcVevdPtdQtBbXcW+EOjhQSOVYMvT0IFWaKYGZ/wj2l+Yrm1DFZ5LgbmYjzJFKucZwcgkY6VTk8E6DLBDC1m4SFPKUJcSLlM52EhvmXk4U5A9K36KQDIo0hiSKJFSNFCqqjAUDoBT6KKAMTU/B+h6xcTTahZmRrhNkwWZ0WUAYG5VIDEdiRkVbXQ9NWG8i+yq0d9j7QjksJMIEHB/2VArQoo8g63MzSvD+naK8r2ELrJKAHklmeVyB0G5yTgZ6dKfc6Jp94161xBvN/ALe4+dhvjG7A4PH3m5HrWhRRuGxjXfhPRb67+0XNnuchQ4ErqkoXpvUHD4/wBoGtC30+2tLq5uLeLZLdMrTNk/MVUKOO3AA4qzRQBian4P0PWLiabULMyNcJsmCzOiygDA3KpAYjsSMirH/CPaX5pk+zfOZ47gne3+sRQqnr2AAx0rToo2Ax4/CujRamL+OzxMJDKq+YxjVz1cR52hvcDNT3Gg6Zdi9+0Wccn28Ktzkf60L93P0rRooDzMrVPDel6xJHJfW7F40MYeKV4mKf3SUIyvseKbdeF9Iu/K8y1MfkxCBRBK8WYx0Q7CNy+xyK16KAOf0rw6ul+ITPbIkVhbafHZWkSsSVAZmbOf+A/lXQUUUAFFFFABQOtFA60AdnRRRSGYfizw0fFWkxWS6xqOkGOcTefp0ipI2FYbSSD8vzZ+oFch/wAKbk/6KB4u/wDAyP8A+N16XRQB5p/wpuT/AKKB4u/8DI//AI3R/wAKbk/6KB4u/wDAyP8A+N16XRQB5p/wpuT/AKKB4u/8DI//AI3R/wAKbk/6KB4u/wDAyP8A+N16XRQB5p/wpuT/AKKB4u/8DI//AI3R/wAKbk/6KB4u/wDAyP8A+N16XRQB5p/wpuT/AKKB4u/8DI//AI3R/wAKbk/6KB4u/wDAyP8A+N16XRQB5p/wpuT/AKKB4u/8DI//AI3R/wAKbk/6KB4u/wDAyP8A+N16XRQB5p/wpuT/AKKB4u/8DI//AI3R/wAKbk/6KB4u/wDAyP8A+N16XRQB5p/wpuT/AKKB4u/8DI//AI3R/wAKbk/6KB4u/wDAyP8A+N16XRQB5p/wpuT/AKKB4u/8DI//AI3R/wAKbk/6KB4u/wDAyP8A+N16XRQB5p/wpuT/AKKB4u/8DI//AI3R/wAKbk/6KB4u/wDAyP8A+N16XRQB5p/wpuT/AKKB4u/8DI//AI3R/wAKbk/6KB4u/wDAyP8A+N16XRQB5p/wpuT/AKKB4u/8DI//AI3R/wAKbk/6KB4u/wDAyP8A+N16XRQB5p/wpuT/AKKB4u/8DI//AI3R/wAKbk/6KB4u/wDAyP8A+N16XRQB5p/wpuT/AKKB4u/8DI//AI3R/wAKbk/6KB4u/wDAyP8A+N16XRQB5p/wpuT/AKKB4u/8DI//AI3R/wAKbk/6KB4u/wDAyP8A+N16XRQB5p/wpuT/AKKB4u/8DI//AI3R/wAKbk/6KB4u/wDAyP8A+N16XRQB5p/wpuT/AKKB4u/8DI//AI3R/wAKbk/6KB4u/wDAyP8A+N16XRQB5p/wpuT/AKKB4u/8DI//AI3R/wAKbk/6KB4u/wDAyP8A+N16XRQB5p/wpuT/AKKB4u/8DI//AI3R/wAKbk/6KB4u/wDAyP8A+N16XRQB5p/wpuT/AKKB4u/8DI//AI3R/wAKbk/6KB4u/wDAyP8A+N16XRQB5p/wpuT/AKKB4u/8DI//AI3R/wAKbk/6KB4u/wDAyP8A+N16XRQB5p/wpuT/AKKB4u/8DI//AI3R/wAKbk/6KB4u/wDAyP8A+N16XRQB5p/wpuT/AKKB4u/8DI//AI3R/wAKbk/6KB4u/wDAyP8A+N16XRQB5p/wpuT/AKKB4u/8DI//AI3R/wAKbk/6KB4u/wDAyP8A+N16XRQB5p/wpuT/AKKB4u/8DI//AI3R/wAKbk/6KB4u/wDAyP8A+N16XRQB5p/wpuT/AKKB4u/8DI//AI3R/wAKbk/6KB4u/wDAyP8A+N16XRQB5p/wpuT/AKKB4u/8DI//AI3R/wAKbk/6KB4u/wDAyP8A+N16XRQB5p/wpuT/AKKB4u/8DI//AI3R/wAKbk/6KB4u/wDAyP8A+N16XRQB5p/wpuT/AKKB4u/8DI//AI3R/wAKbk/6KB4u/wDAyP8A+N16XRQB5p/wpuT/AKKB4u/8DI//AI3R/wAKbk/6KB4u/wDAyP8A+N16XRQB5p/wpuT/AKKB4u/8DI//AI3R/wAKbk/6KB4u/wDAyP8A+N16XRQB5p/wpuT/AKKB4u/8DI//AI3R/wAKbk/6KB4u/wDAyP8A+N16XRQB5p/wpuT/AKKB4u/8DI//AI3R/wAKbk/6KB4u/wDAyP8A+N16XRQB5p/wpuT/AKKB4u/8DI//AI3R/wAKbk/6KB4u/wDAyP8A+N16XRQB5p/wpuT/AKKB4u/8DI//AI3QPg5ICD/wn/i0/wDb5H/8br0uigAooooA/9k=)\n",
        "\n",
        "Variable names are case-sensitive, meaning that spam, SPAM, Spam, and sPaM \n",
        "are four different variables.\n"
      ]
    },
    {
      "cell_type": "markdown",
      "metadata": {
        "id": "dcax3fQPWHq8"
      },
      "source": [
        "# **Functions**"
      ]
    },
    {
      "cell_type": "markdown",
      "metadata": {
        "id": "R9Lr6deAzTuZ"
      },
      "source": [
        "**Python print() Function**"
      ]
    },
    {
      "cell_type": "markdown",
      "metadata": {
        "id": "52Da0Isb-x28"
      },
      "source": [
        "The print() function displays the string value inside its parentheses on\n",
        "the screen. "
      ]
    },
    {
      "cell_type": "code",
      "metadata": {
        "colab": {
          "base_uri": "https://localhost:8080/"
        },
        "id": "EEGQWPp-0fT7",
        "outputId": "1556156c-6ee9-496a-f1fd-04eba866bb0e"
      },
      "source": [
        "print(\"hello world\")"
      ],
      "execution_count": null,
      "outputs": [
        {
          "output_type": "stream",
          "text": [
            "hello world\n"
          ],
          "name": "stdout"
        }
      ]
    },
    {
      "cell_type": "markdown",
      "metadata": {
        "id": "U8R1KscP-8VL"
      },
      "source": [
        "**The input() Function**"
      ]
    },
    {
      "cell_type": "markdown",
      "metadata": {
        "id": "dmO3xtj9_C8b"
      },
      "source": [
        "The input() function waits for the user to type some text on the keyboard\n",
        "and press enter"
      ]
    },
    {
      "cell_type": "code",
      "metadata": {
        "colab": {
          "base_uri": "https://localhost:8080/"
        },
        "id": "YvCBXz1i-LS5",
        "outputId": "f7e7e771-d348-4e05-dfec-4eca1352bbd9"
      },
      "source": [
        "my_name = input()\n",
        "\n",
        "print('your name is \\n ',my_name )"
      ],
      "execution_count": null,
      "outputs": [
        {
          "output_type": "stream",
          "text": [
            "chethan\n",
            "your name is \n",
            "  chethan\n"
          ],
          "name": "stdout"
        }
      ]
    },
    {
      "cell_type": "markdown",
      "metadata": {
        "id": "UJaA0qo5_dRM"
      },
      "source": [
        "**The len() Function**\n",
        "\n",
        "You can pass the len() function a string value (or a variable containing a\n",
        "string), and the function evaluates to the integer value of the number of\n",
        "characters in that string."
      ]
    },
    {
      "cell_type": "code",
      "metadata": {
        "colab": {
          "base_uri": "https://localhost:8080/"
        },
        "id": "dGmEqamRX6ek",
        "outputId": "fb978ed9-7872-49de-f3a8-9676e43efee9"
      },
      "source": [
        "print('The length of your name is:')\n",
        "print(len(my_name))"
      ],
      "execution_count": null,
      "outputs": [
        {
          "output_type": "stream",
          "text": [
            "The length of your name is:\n",
            "7\n"
          ],
          "name": "stdout"
        }
      ]
    },
    {
      "cell_type": "code",
      "metadata": {
        "colab": {
          "base_uri": "https://localhost:8080/"
        },
        "id": "QGx7l1JMAIxy",
        "outputId": "5837f871-33c5-405d-8ea0-7dfa7a481ac0"
      },
      "source": [
        "len('My very energetic monster just scarfed nachos.')"
      ],
      "execution_count": null,
      "outputs": [
        {
          "output_type": "execute_result",
          "data": {
            "text/plain": [
              "46"
            ]
          },
          "metadata": {
            "tags": []
          },
          "execution_count": 19
        }
      ]
    },
    {
      "cell_type": "code",
      "metadata": {
        "colab": {
          "base_uri": "https://localhost:8080/"
        },
        "id": "iA6WfrFiAPnh",
        "outputId": "7985e15c-213d-4352-954a-1e33202a2dbf"
      },
      "source": [
        "len('')"
      ],
      "execution_count": null,
      "outputs": [
        {
          "output_type": "execute_result",
          "data": {
            "text/plain": [
              "0"
            ]
          },
          "metadata": {
            "tags": []
          },
          "execution_count": 20
        }
      ]
    },
    {
      "cell_type": "markdown",
      "metadata": {
        "id": "v9zpYlLlFBVW"
      },
      "source": [
        "# **The str(), int(), and float() Functions**"
      ]
    },
    {
      "cell_type": "markdown",
      "metadata": {
        "id": "IfSFH-BUFbP9"
      },
      "source": [
        "**str() function** \n",
        "\n",
        "str() function can be passed an integer value and will evaluate to a string\n",
        "value version of the integer"
      ]
    },
    {
      "cell_type": "code",
      "metadata": {
        "colab": {
          "base_uri": "https://localhost:8080/"
        },
        "id": "Mh9LxtYPFif8",
        "outputId": "d4523c4b-5008-4d23-d0f9-a5dacca4d36d"
      },
      "source": [
        "a = 29\n",
        "type(a)"
      ],
      "execution_count": null,
      "outputs": [
        {
          "output_type": "execute_result",
          "data": {
            "text/plain": [
              "int"
            ]
          },
          "metadata": {
            "tags": []
          },
          "execution_count": 31
        }
      ]
    },
    {
      "cell_type": "code",
      "metadata": {
        "colab": {
          "base_uri": "https://localhost:8080/"
        },
        "id": "6En5-Bk_FusT",
        "outputId": "0693d58a-0006-43b8-e1c2-f9d673a96ed9"
      },
      "source": [
        "b = str(29)\n",
        "type(b)"
      ],
      "execution_count": null,
      "outputs": [
        {
          "output_type": "execute_result",
          "data": {
            "text/plain": [
              "str"
            ]
          },
          "metadata": {
            "tags": []
          },
          "execution_count": 32
        }
      ]
    },
    {
      "cell_type": "code",
      "metadata": {
        "colab": {
          "base_uri": "https://localhost:8080/",
          "height": 163
        },
        "id": "Te8PLoKdFsgd",
        "outputId": "2b5e48c3-3e31-452a-918d-715117a23e1f"
      },
      "source": [
        "print('i am ' +29 +' years old')"
      ],
      "execution_count": null,
      "outputs": [
        {
          "output_type": "error",
          "ename": "TypeError",
          "evalue": "ignored",
          "traceback": [
            "\u001b[0;31m---------------------------------------------------------------------------\u001b[0m",
            "\u001b[0;31mTypeError\u001b[0m                                 Traceback (most recent call last)",
            "\u001b[0;32m<ipython-input-33-18555a0a03d6>\u001b[0m in \u001b[0;36m<module>\u001b[0;34m()\u001b[0m\n\u001b[0;32m----> 1\u001b[0;31m \u001b[0mprint\u001b[0m\u001b[0;34m(\u001b[0m\u001b[0;34m'i am '\u001b[0m \u001b[0;34m+\u001b[0m\u001b[0;36m29\u001b[0m \u001b[0;34m+\u001b[0m\u001b[0;34m' years old'\u001b[0m\u001b[0;34m)\u001b[0m\u001b[0;34m\u001b[0m\u001b[0;34m\u001b[0m\u001b[0m\n\u001b[0m",
            "\u001b[0;31mTypeError\u001b[0m: can only concatenate str (not \"int\") to str"
          ]
        }
      ]
    },
    {
      "cell_type": "code",
      "metadata": {
        "colab": {
          "base_uri": "https://localhost:8080/"
        },
        "id": "iN6sH79RFsjN",
        "outputId": "bb48ca42-4615-4d30-aaa9-701c41762e49"
      },
      "source": [
        "print('i am ' +str(29) +' years old')"
      ],
      "execution_count": null,
      "outputs": [
        {
          "output_type": "stream",
          "text": [
            "i am 29 years old\n"
          ],
          "name": "stdout"
        }
      ]
    },
    {
      "cell_type": "markdown",
      "metadata": {
        "id": "qrb5MnsxIZTQ"
      },
      "source": [
        "**int() and float() function**"
      ]
    },
    {
      "cell_type": "code",
      "metadata": {
        "colab": {
          "base_uri": "https://localhost:8080/"
        },
        "id": "6RXpmLVoJl4o",
        "outputId": "7f0fcc39-aba6-4880-b28c-bd089fc593de"
      },
      "source": [
        "a = str(49)\n",
        "type(a)\n",
        "print(a)"
      ],
      "execution_count": null,
      "outputs": [
        {
          "output_type": "stream",
          "text": [
            "49\n"
          ],
          "name": "stdout"
        }
      ]
    },
    {
      "cell_type": "code",
      "metadata": {
        "colab": {
          "base_uri": "https://localhost:8080/"
        },
        "id": "FQ6jY-uRJl_-",
        "outputId": "27161213-8c7a-40f7-db36-5cf405004c70"
      },
      "source": [
        "a =int(a)\n",
        "type(a)\n",
        "print(a)"
      ],
      "execution_count": null,
      "outputs": [
        {
          "output_type": "stream",
          "text": [
            "49\n"
          ],
          "name": "stdout"
        }
      ]
    },
    {
      "cell_type": "code",
      "metadata": {
        "colab": {
          "base_uri": "https://localhost:8080/"
        },
        "id": "wixi2FyQJmHu",
        "outputId": "bebf88b8-aaa6-4773-8a65-39eb0c22898d"
      },
      "source": [
        "a =float(a)\n",
        "type(a)\n",
        "print(a)"
      ],
      "execution_count": null,
      "outputs": [
        {
          "output_type": "stream",
          "text": [
            "49.0\n"
          ],
          "name": "stdout"
        }
      ]
    },
    {
      "cell_type": "code",
      "metadata": {
        "colab": {
          "base_uri": "https://localhost:8080/"
        },
        "id": "FdM-QiW6FsmS",
        "outputId": "88d97f55-4195-4b8b-a715-3634700e3680"
      },
      "source": [
        "int(1.99)"
      ],
      "execution_count": null,
      "outputs": [
        {
          "output_type": "execute_result",
          "data": {
            "text/plain": [
              "1"
            ]
          },
          "metadata": {
            "tags": []
          },
          "execution_count": 46
        }
      ]
    },
    {
      "cell_type": "code",
      "metadata": {
        "colab": {
          "base_uri": "https://localhost:8080/"
        },
        "id": "rVs_x9dGKjj_",
        "outputId": "a15a526e-3828-49fe-e8ff-513fcbcbfd40"
      },
      "source": [
        ">>> float(10)"
      ],
      "execution_count": null,
      "outputs": [
        {
          "output_type": "execute_result",
          "data": {
            "text/plain": [
              "10.0"
            ]
          },
          "metadata": {
            "tags": []
          },
          "execution_count": 47
        }
      ]
    },
    {
      "cell_type": "code",
      "metadata": {
        "colab": {
          "base_uri": "https://localhost:8080/",
          "height": 163
        },
        "id": "IvoNGuWPKjrO",
        "outputId": "b16cb32a-3e71-4662-9a3f-fcfcd8c60445"
      },
      "source": [
        "int(hi)"
      ],
      "execution_count": null,
      "outputs": [
        {
          "output_type": "error",
          "ename": "NameError",
          "evalue": "ignored",
          "traceback": [
            "\u001b[0;31m---------------------------------------------------------------------------\u001b[0m",
            "\u001b[0;31mNameError\u001b[0m                                 Traceback (most recent call last)",
            "\u001b[0;32m<ipython-input-48-df35eaf2cf99>\u001b[0m in \u001b[0;36m<module>\u001b[0;34m()\u001b[0m\n\u001b[0;32m----> 1\u001b[0;31m \u001b[0mint\u001b[0m\u001b[0;34m(\u001b[0m\u001b[0mhi\u001b[0m\u001b[0;34m)\u001b[0m\u001b[0;34m\u001b[0m\u001b[0;34m\u001b[0m\u001b[0m\n\u001b[0m",
            "\u001b[0;31mNameError\u001b[0m: name 'hi' is not defined"
          ]
        }
      ]
    },
    {
      "cell_type": "code",
      "metadata": {
        "colab": {
          "base_uri": "https://localhost:8080/",
          "height": 163
        },
        "id": "CrCTxt6gKkHv",
        "outputId": "86778967-6ea7-4a3e-dc9a-232bbdb85e8a"
      },
      "source": [
        "float(ht)"
      ],
      "execution_count": null,
      "outputs": [
        {
          "output_type": "error",
          "ename": "NameError",
          "evalue": "ignored",
          "traceback": [
            "\u001b[0;31m---------------------------------------------------------------------------\u001b[0m",
            "\u001b[0;31mNameError\u001b[0m                                 Traceback (most recent call last)",
            "\u001b[0;32m<ipython-input-49-0998fd00b8aa>\u001b[0m in \u001b[0;36m<module>\u001b[0;34m()\u001b[0m\n\u001b[0;32m----> 1\u001b[0;31m \u001b[0mfloat\u001b[0m\u001b[0;34m(\u001b[0m\u001b[0mht\u001b[0m\u001b[0;34m)\u001b[0m\u001b[0;34m\u001b[0m\u001b[0;34m\u001b[0m\u001b[0m\n\u001b[0m",
            "\u001b[0;31mNameError\u001b[0m: name 'ht' is not defined"
          ]
        }
      ]
    },
    {
      "cell_type": "markdown",
      "metadata": {
        "id": "HLoNxOJFAeRF"
      },
      "source": [
        "# **Your First Program**"
      ]
    },
    {
      "cell_type": "code",
      "metadata": {
        "colab": {
          "base_uri": "https://localhost:8080/"
        },
        "id": "xykCZBmJAUGK",
        "outputId": "6ea0644d-c21c-4722-9f0d-c141f06f8f26"
      },
      "source": [
        "# This program says hello and asks for my name and age .\n",
        "print('hello!')\n",
        "print('what is your name...')\n",
        "name = input()\n",
        "print('its good to meet you ' + name)\n",
        "namelen = len(name)\n",
        "print('your name len is ' +  str(int(namelen)))\n",
        "print('What is your age?')    \n",
        "myAge = input()\n",
        "print('you will be ' + str(int(myAge)+1)+ ' in a year')"
      ],
      "execution_count": null,
      "outputs": [
        {
          "output_type": "stream",
          "text": [
            "hello!\n",
            "what is your name...\n",
            "chethan\n",
            "its good to meet you chethan\n",
            "your name len is 7\n",
            "What is your age?\n",
            "45\n",
            "you will be 46 in a year\n"
          ],
          "name": "stdout"
        }
      ]
    },
    {
      "cell_type": "code",
      "metadata": {
        "id": "YTZ-PCXNDLTM"
      },
      "source": [
        ""
      ],
      "execution_count": null,
      "outputs": []
    }
  ]
}